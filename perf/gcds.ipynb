{
 "cells": [
  {
   "cell_type": "markdown",
   "metadata": {},
   "source": [
    "### Benchmarking 3 gcd implementations against each other \n",
    "\n",
    "- `Nemo.gcdx` -- some EEA algorithm from the flint library;\n",
    "- `ExactSparseInterpolations.fastgcd` - fast gcd from the Modern Comp. Algebra;\n",
    "- `ExactSparseInterpolations.slowgcd` - standard implementation of thw EEA.\n",
    "\n",
    "Over integers modulo a prime number.\n"
   ]
  },
  {
   "cell_type": "code",
   "execution_count": 40,
   "metadata": {},
   "outputs": [
    {
     "name": "stderr",
     "output_type": "stream",
     "text": [
      "WARNING: replacing module ExactSparseInterpolations.\n"
     ]
    }
   ],
   "source": [
    "# include the ExactSparseInterpolations package from the local dir \n",
    "include(\"../src/ExactSparseInterpolations.jl\");"
   ]
  },
  {
   "cell_type": "code",
   "execution_count": 41,
   "metadata": {},
   "outputs": [],
   "source": [
    "using Nemo\n",
    "using BenchmarkTools\n",
    "using Plots\n",
    "using DataFrames"
   ]
  },
  {
   "cell_type": "code",
   "execution_count": 3,
   "metadata": {},
   "outputs": [
    {
     "data": {
      "text/plain": [
       "benchmark_gcd (generic function with 1 method)"
      ]
     },
     "metadata": {},
     "output_type": "display_data"
    }
   ],
   "source": [
    "# Given the function `GCD` and the range `ns`\n",
    "# benchmark the function `GCD` on polynomials of degrees 2^n for n in `ns` \n",
    "# and return the array of running times\n",
    "function benchmark_gcd(GCD, ns)\n",
    "    R, x = PolynomialRing(GF(2^31-1), \"x\")\n",
    "    times = Float64[]\n",
    "    for i in ns\n",
    "        n = 2^i\n",
    "        a, b, c = div(n, 3), div(n, 6), div(n, 2)\n",
    "        @assert a + b + c <= n\n",
    "        f = (x - 1)^a*(x + 4)^b*(x + 3)^c\n",
    "        g = (x - 1)^b*(x + 3)^a*(x + 7)^c\n",
    "        bench = @benchmarkable $GCD($f, $g) samples=3\n",
    "        push!(times, minimum(run(bench)).time)\n",
    "    end\n",
    "    times\n",
    "end"
   ]
  },
  {
   "cell_type": "markdown",
   "metadata": {},
   "source": [
    "### Benchmark the three functions:"
   ]
  },
  {
   "cell_type": "code",
   "execution_count": 6,
   "metadata": {},
   "outputs": [
    {
     "data": {
      "text/plain": [
       "2:15"
      ]
     },
     "metadata": {},
     "output_type": "display_data"
    }
   ],
   "source": [
    "# grid 2..13\n",
    "ns = 2:15"
   ]
  },
  {
   "cell_type": "code",
   "execution_count": 9,
   "metadata": {},
   "outputs": [],
   "source": [
    "nemo_gcd = benchmark_gcd(Nemo.gcdx, ns);"
   ]
  },
  {
   "cell_type": "code",
   "execution_count": 10,
   "metadata": {},
   "outputs": [],
   "source": [
    "esi_fast_gcd = benchmark_gcd(ExactSparseInterpolations.fastgcd, ns);"
   ]
  },
  {
   "cell_type": "code",
   "execution_count": 11,
   "metadata": {},
   "outputs": [],
   "source": [
    "esi_slow_gcd = benchmark_gcd(ExactSparseInterpolations.slowgcd, ns);"
   ]
  },
  {
   "cell_type": "markdown",
   "metadata": {},
   "source": [
    "#### Plots the running times\n",
    "\n",
    "in logarithmic scale in y-coordinate "
   ]
  },
  {
   "cell_type": "code",
   "execution_count": 42,
   "metadata": {},
   "outputs": [
    {
     "name": "stdout",
     "output_type": "stream",
     "text": []
    }
   ],
   "source": [
    "plot(ns, nemo_gcd, label=\"Nemo.gcdx\", linewidth=2, legend=:topleft, yaxis=:log)\n",
    "plot!(ns, esi_fast_gcd, label=\"ExactSparseInterpolations.fastgcd\", linewidth=2)\n",
    "plot!(ns, esi_slow_gcd, label=\"ExactSparseInterpolations.slowgcd\", linewidth=2)\n",
    "xlabel!(\"log(n)\")\n",
    "ylabel!(\"time (ns)\")"
   ]
  },
  {
   "cell_type": "markdown",
   "metadata": {},
   "source": [
    "#### The summary of running times:\n",
    "\n",
    "in seconds"
   ]
  },
  {
   "cell_type": "code",
   "execution_count": 13,
   "metadata": {},
   "outputs": [
    {
     "data": {
      "text/html": [
       "<div><div style = \"float: left;\"><span>14×4 DataFrame</span></div><div style = \"clear: both;\"></div></div><div class = \"data-frame\" style = \"overflow-x: scroll;\"><table class = \"data-frame\" style = \"margin-bottom: 6px;\"><thead><tr class = \"header\"><th class = \"rowNumber\" style = \"font-weight: bold; text-align: right;\">Row</th><th style = \"text-align: left;\">degree</th><th style = \"text-align: left;\">nemo_gcd</th><th style = \"text-align: left;\">esi_fast_gcd</th><th style = \"text-align: left;\">esi_slow_gcd</th></tr><tr class = \"subheader headerLastRow\"><th class = \"rowNumber\" style = \"font-weight: bold; text-align: right;\"></th><th title = \"String\" style = \"text-align: left;\">String</th><th title = \"Float64\" style = \"text-align: left;\">Float64</th><th title = \"Float64\" style = \"text-align: left;\">Float64</th><th title = \"Float64\" style = \"text-align: left;\">Float64</th></tr></thead><tbody><tr><td class = \"rowNumber\" style = \"font-weight: bold; text-align: right;\">1</td><td style = \"text-align: left;\">2^2</td><td style = \"text-align: right;\">0.0</td><td style = \"text-align: right;\">0.0</td><td style = \"text-align: right;\">0.0</td></tr><tr><td class = \"rowNumber\" style = \"font-weight: bold; text-align: right;\">2</td><td style = \"text-align: left;\">2^3</td><td style = \"text-align: right;\">0.0</td><td style = \"text-align: right;\">0.0</td><td style = \"text-align: right;\">0.0</td></tr><tr><td class = \"rowNumber\" style = \"font-weight: bold; text-align: right;\">3</td><td style = \"text-align: left;\">2^4</td><td style = \"text-align: right;\">0.0</td><td style = \"text-align: right;\">0.0001</td><td style = \"text-align: right;\">0.0</td></tr><tr><td class = \"rowNumber\" style = \"font-weight: bold; text-align: right;\">4</td><td style = \"text-align: left;\">2^5</td><td style = \"text-align: right;\">0.0</td><td style = \"text-align: right;\">0.0001</td><td style = \"text-align: right;\">0.0</td></tr><tr><td class = \"rowNumber\" style = \"font-weight: bold; text-align: right;\">5</td><td style = \"text-align: left;\">2^6</td><td style = \"text-align: right;\">0.0</td><td style = \"text-align: right;\">0.0002</td><td style = \"text-align: right;\">0.0001</td></tr><tr><td class = \"rowNumber\" style = \"font-weight: bold; text-align: right;\">6</td><td style = \"text-align: left;\">2^7</td><td style = \"text-align: right;\">0.0001</td><td style = \"text-align: right;\">0.0005</td><td style = \"text-align: right;\">0.0002</td></tr><tr><td class = \"rowNumber\" style = \"font-weight: bold; text-align: right;\">7</td><td style = \"text-align: left;\">2^8</td><td style = \"text-align: right;\">0.0003</td><td style = \"text-align: right;\">0.0011</td><td style = \"text-align: right;\">0.0005</td></tr><tr><td class = \"rowNumber\" style = \"font-weight: bold; text-align: right;\">8</td><td style = \"text-align: left;\">2^9</td><td style = \"text-align: right;\">0.001</td><td style = \"text-align: right;\">0.0024</td><td style = \"text-align: right;\">0.0015</td></tr><tr><td class = \"rowNumber\" style = \"font-weight: bold; text-align: right;\">9</td><td style = \"text-align: left;\">2^10</td><td style = \"text-align: right;\">0.0018</td><td style = \"text-align: right;\">0.005</td><td style = \"text-align: right;\">0.007</td></tr><tr><td class = \"rowNumber\" style = \"font-weight: bold; text-align: right;\">10</td><td style = \"text-align: left;\">2^11</td><td style = \"text-align: right;\">0.0046</td><td style = \"text-align: right;\">0.0113</td><td style = \"text-align: right;\">0.034</td></tr><tr><td class = \"rowNumber\" style = \"font-weight: bold; text-align: right;\">11</td><td style = \"text-align: left;\">2^12</td><td style = \"text-align: right;\">0.0132</td><td style = \"text-align: right;\">0.0292</td><td style = \"text-align: right;\">0.1588</td></tr><tr><td class = \"rowNumber\" style = \"font-weight: bold; text-align: right;\">12</td><td style = \"text-align: left;\">2^13</td><td style = \"text-align: right;\">0.0333</td><td style = \"text-align: right;\">0.0765</td><td style = \"text-align: right;\">0.6467</td></tr><tr><td class = \"rowNumber\" style = \"font-weight: bold; text-align: right;\">13</td><td style = \"text-align: left;\">2^14</td><td style = \"text-align: right;\">0.085</td><td style = \"text-align: right;\">0.1845</td><td style = \"text-align: right;\">4.1245</td></tr><tr><td class = \"rowNumber\" style = \"font-weight: bold; text-align: right;\">14</td><td style = \"text-align: left;\">2^15</td><td style = \"text-align: right;\">0.2128</td><td style = \"text-align: right;\">0.4374</td><td style = \"text-align: right;\">47.5536</td></tr></tbody></table></div>"
      ],
      "text/latex": [
       "\\begin{tabular}{r|cccc}\n",
       "\t& degree & nemo\\_gcd & esi\\_fast\\_gcd & esi\\_slow\\_gcd\\\\\n",
       "\t\\hline\n",
       "\t& String & Float64 & Float64 & Float64\\\\\n",
       "\t\\hline\n",
       "\t1 & 2\\^2 & 0.0 & 0.0 & 0.0 \\\\\n",
       "\t2 & 2\\^3 & 0.0 & 0.0 & 0.0 \\\\\n",
       "\t3 & 2\\^4 & 0.0 & 0.0001 & 0.0 \\\\\n",
       "\t4 & 2\\^5 & 0.0 & 0.0001 & 0.0 \\\\\n",
       "\t5 & 2\\^6 & 0.0 & 0.0002 & 0.0001 \\\\\n",
       "\t6 & 2\\^7 & 0.0001 & 0.0005 & 0.0002 \\\\\n",
       "\t7 & 2\\^8 & 0.0003 & 0.0011 & 0.0005 \\\\\n",
       "\t8 & 2\\^9 & 0.001 & 0.0024 & 0.0015 \\\\\n",
       "\t9 & 2\\^10 & 0.0018 & 0.005 & 0.007 \\\\\n",
       "\t10 & 2\\^11 & 0.0046 & 0.0113 & 0.034 \\\\\n",
       "\t11 & 2\\^12 & 0.0132 & 0.0292 & 0.1588 \\\\\n",
       "\t12 & 2\\^13 & 0.0333 & 0.0765 & 0.6467 \\\\\n",
       "\t13 & 2\\^14 & 0.085 & 0.1845 & 4.1245 \\\\\n",
       "\t14 & 2\\^15 & 0.2128 & 0.4374 & 47.5536 \\\\\n",
       "\\end{tabular}\n"
      ],
      "text/plain": [
       "\u001b[1m14×4 DataFrame\u001b[0m\n",
       "\u001b[1m Row \u001b[0m│\u001b[1m degree \u001b[0m\u001b[1m nemo_gcd \u001b[0m\u001b[1m esi_fast_gcd \u001b[0m\u001b[1m esi_slow_gcd \u001b[0m\n",
       "     │\u001b[90m String \u001b[0m\u001b[90m Float64  \u001b[0m\u001b[90m Float64      \u001b[0m\u001b[90m Float64      \u001b[0m\n",
       "─────┼──────────────────────────────────────────────\n",
       "   1 │ 2^2       0.0           0.0           0.0\n",
       "   2 │ 2^3       0.0           0.0           0.0\n",
       "   3 │ 2^4       0.0           0.0001        0.0\n",
       "   4 │ 2^5       0.0           0.0001        0.0\n",
       "   5 │ 2^6       0.0           0.0002        0.0001\n",
       "   6 │ 2^7       0.0001        0.0005        0.0002\n",
       "   7 │ 2^8       0.0003        0.0011        0.0005\n",
       "   8 │ 2^9       0.001         0.0024        0.0015\n",
       "   9 │ 2^10      0.0018        0.005         0.007\n",
       "  10 │ 2^11      0.0046        0.0113        0.034\n",
       "  11 │ 2^12      0.0132        0.0292        0.1588\n",
       "  12 │ 2^13      0.0333        0.0765        0.6467\n",
       "  13 │ 2^14      0.085         0.1845        4.1245\n",
       "  14 │ 2^15      0.2128        0.4374       47.5536"
      ]
     },
     "metadata": {},
     "output_type": "display_data"
    }
   ],
   "source": [
    "# convert from ns to s\n",
    "df = DataFrame(\n",
    "    degree=[\"2^$i\" for i in ns], \n",
    "    nemo_gcd=round.(nemo_gcd ./ 1e9, digits=4), \n",
    "    esi_fast_gcd=round.(esi_fast_gcd ./ 1e9, digits=4), \n",
    "    esi_slow_gcd=round.(esi_slow_gcd ./ 1e9, digits=4)\n",
    ")\n",
    "df"
   ]
  },
  {
   "cell_type": "markdown",
   "metadata": {},
   "source": [
    "#### What is the complexity of `Nemo.gcdx` implementation ?\n",
    "\n",
    "Let's find the complexity of `Nemo.gcdx` as a function \n",
    "\n",
    "$$f(n) = aM(n)log~n + b \\in \\mathcal{O}(M(n)log~n)$$\n",
    "\n",
    "If we assume for a moment that the function is linear, we can try to infer the constant $a$. That is, take some two points from the column `nemo_gcd` from the table: $(2^{11}, 46\\cdot 10^{-4})$ and $(2^{12}, 132\\cdot 10^{-4})$.\n",
    "\n",
    "Since we assumed $f(n) = an + b$, the coefficient is obtained by plugging two points in $f(n)$. In our case,\n",
    "\n",
    "$$\n",
    "\\begin{aligned}\n",
    "46\\cdot 10^{-4} = 2048a + b\\\\\n",
    "132\\cdot 10^{-4} = 4096a + b\\\\\n",
    "\\end{aligned}\n",
    "$$\n",
    " \n",
    "and we infer roughly\n",
    "\n",
    "$$\n",
    "\\begin{aligned}\n",
    "a &= (132 - 46) / 2\\cdot 10^{-7} = 42\\cdot 10^{-7}\\\\\n",
    "b &= -4\\cdot 10^{-3}\\\\\n",
    "\\end{aligned}\n",
    "$$"
   ]
  },
  {
   "cell_type": "markdown",
   "metadata": {},
   "source": [
    "Let's check if $f(n) = (n)log~n + b$ is close to the experimental values."
   ]
  },
  {
   "cell_type": "code",
   "execution_count": 36,
   "metadata": {},
   "outputs": [
    {
     "data": {
      "text/plain": [
       "f (generic function with 1 method)"
      ]
     },
     "metadata": {},
     "output_type": "display_data"
    }
   ],
   "source": [
    "a = 42*1e-7\n",
    "b = -4*1e-3\n",
    "M(n) = n*log(n)\n",
    "f(n) = a*M(n)*log(n) + b"
   ]
  },
  {
   "cell_type": "code",
   "execution_count": 39,
   "metadata": {},
   "outputs": [
    {
     "data": {
      "text/html": [
       "<div><div style = \"float: left;\"><span>14×5 DataFrame</span></div><div style = \"clear: both;\"></div></div><div class = \"data-frame\" style = \"overflow-x: scroll;\"><table class = \"data-frame\" style = \"margin-bottom: 6px;\"><thead><tr class = \"header\"><th class = \"rowNumber\" style = \"font-weight: bold; text-align: right;\">Row</th><th style = \"text-align: left;\">degree</th><th style = \"text-align: left;\">nemo_gcd</th><th style = \"text-align: left;\">esi_fast_gcd</th><th style = \"text-align: left;\">esi_slow_gcd</th><th style = \"text-align: left;\">aM(n)logn</th></tr><tr class = \"subheader headerLastRow\"><th class = \"rowNumber\" style = \"font-weight: bold; text-align: right;\"></th><th title = \"String\" style = \"text-align: left;\">String</th><th title = \"Float64\" style = \"text-align: left;\">Float64</th><th title = \"Float64\" style = \"text-align: left;\">Float64</th><th title = \"Float64\" style = \"text-align: left;\">Float64</th><th title = \"Float64\" style = \"text-align: left;\">Float64</th></tr></thead><tbody><tr><td class = \"rowNumber\" style = \"font-weight: bold; text-align: right;\">1</td><td style = \"text-align: left;\">2^2</td><td style = \"text-align: right;\">0.0</td><td style = \"text-align: right;\">0.0</td><td style = \"text-align: right;\">0.0</td><td style = \"text-align: right;\">0.0</td></tr><tr><td class = \"rowNumber\" style = \"font-weight: bold; text-align: right;\">2</td><td style = \"text-align: left;\">2^3</td><td style = \"text-align: right;\">0.0</td><td style = \"text-align: right;\">0.0</td><td style = \"text-align: right;\">0.0</td><td style = \"text-align: right;\">0.0</td></tr><tr><td class = \"rowNumber\" style = \"font-weight: bold; text-align: right;\">3</td><td style = \"text-align: left;\">2^4</td><td style = \"text-align: right;\">0.0</td><td style = \"text-align: right;\">0.0001</td><td style = \"text-align: right;\">0.0</td><td style = \"text-align: right;\">0.0</td></tr><tr><td class = \"rowNumber\" style = \"font-weight: bold; text-align: right;\">4</td><td style = \"text-align: left;\">2^5</td><td style = \"text-align: right;\">0.0</td><td style = \"text-align: right;\">0.0001</td><td style = \"text-align: right;\">0.0</td><td style = \"text-align: right;\">0.0</td></tr><tr><td class = \"rowNumber\" style = \"font-weight: bold; text-align: right;\">5</td><td style = \"text-align: left;\">2^6</td><td style = \"text-align: right;\">0.0</td><td style = \"text-align: right;\">0.0002</td><td style = \"text-align: right;\">0.0001</td><td style = \"text-align: right;\">0.000649248</td></tr><tr><td class = \"rowNumber\" style = \"font-weight: bold; text-align: right;\">6</td><td style = \"text-align: left;\">2^7</td><td style = \"text-align: right;\">0.0001</td><td style = \"text-align: right;\">0.0005</td><td style = \"text-align: right;\">0.0002</td><td style = \"text-align: right;\">0.00865629</td></tr><tr><td class = \"rowNumber\" style = \"font-weight: bold; text-align: right;\">7</td><td style = \"text-align: left;\">2^8</td><td style = \"text-align: right;\">0.0003</td><td style = \"text-align: right;\">0.0011</td><td style = \"text-align: right;\">0.0005</td><td style = \"text-align: right;\">0.0290613</td></tr><tr><td class = \"rowNumber\" style = \"font-weight: bold; text-align: right;\">8</td><td style = \"text-align: left;\">2^9</td><td style = \"text-align: right;\">0.001</td><td style = \"text-align: right;\">0.0024</td><td style = \"text-align: right;\">0.0015</td><td style = \"text-align: right;\">0.0796865</td></tr><tr><td class = \"rowNumber\" style = \"font-weight: bold; text-align: right;\">9</td><td style = \"text-align: left;\">2^10</td><td style = \"text-align: right;\">0.0018</td><td style = \"text-align: right;\">0.005</td><td style = \"text-align: right;\">0.007</td><td style = \"text-align: right;\">0.202633</td></tr><tr><td class = \"rowNumber\" style = \"font-weight: bold; text-align: right;\">10</td><td style = \"text-align: left;\">2^11</td><td style = \"text-align: right;\">0.0046</td><td style = \"text-align: right;\">0.0113</td><td style = \"text-align: right;\">0.034</td><td style = \"text-align: right;\">0.496052</td></tr><tr><td class = \"rowNumber\" style = \"font-weight: bold; text-align: right;\">11</td><td style = \"text-align: left;\">2^12</td><td style = \"text-align: right;\">0.0132</td><td style = \"text-align: right;\">0.0292</td><td style = \"text-align: right;\">0.1588</td><td style = \"text-align: right;\">1.18621</td></tr><tr><td class = \"rowNumber\" style = \"font-weight: bold; text-align: right;\">12</td><td style = \"text-align: left;\">2^13</td><td style = \"text-align: right;\">0.0333</td><td style = \"text-align: right;\">0.0765</td><td style = \"text-align: right;\">0.6467</td><td style = \"text-align: right;\">2.78968</td></tr><tr><td class = \"rowNumber\" style = \"font-weight: bold; text-align: right;\">13</td><td style = \"text-align: left;\">2^14</td><td style = \"text-align: right;\">0.085</td><td style = \"text-align: right;\">0.1845</td><td style = \"text-align: right;\">4.1245</td><td style = \"text-align: right;\">6.47602</td></tr><tr><td class = \"rowNumber\" style = \"font-weight: bold; text-align: right;\">14</td><td style = \"text-align: left;\">2^15</td><td style = \"text-align: right;\">0.2128</td><td style = \"text-align: right;\">0.4374</td><td style = \"text-align: right;\">47.5536</td><td style = \"text-align: right;\">14.8736</td></tr></tbody></table></div>"
      ],
      "text/latex": [
       "\\begin{tabular}{r|ccccc}\n",
       "\t& degree & nemo\\_gcd & esi\\_fast\\_gcd & esi\\_slow\\_gcd & aM(n)logn\\\\\n",
       "\t\\hline\n",
       "\t& String & Float64 & Float64 & Float64 & Float64\\\\\n",
       "\t\\hline\n",
       "\t1 & 2\\^2 & 0.0 & 0.0 & 0.0 & 0.0 \\\\\n",
       "\t2 & 2\\^3 & 0.0 & 0.0 & 0.0 & 0.0 \\\\\n",
       "\t3 & 2\\^4 & 0.0 & 0.0001 & 0.0 & 0.0 \\\\\n",
       "\t4 & 2\\^5 & 0.0 & 0.0001 & 0.0 & 0.0 \\\\\n",
       "\t5 & 2\\^6 & 0.0 & 0.0002 & 0.0001 & 0.000649248 \\\\\n",
       "\t6 & 2\\^7 & 0.0001 & 0.0005 & 0.0002 & 0.00865629 \\\\\n",
       "\t7 & 2\\^8 & 0.0003 & 0.0011 & 0.0005 & 0.0290613 \\\\\n",
       "\t8 & 2\\^9 & 0.001 & 0.0024 & 0.0015 & 0.0796865 \\\\\n",
       "\t9 & 2\\^10 & 0.0018 & 0.005 & 0.007 & 0.202633 \\\\\n",
       "\t10 & 2\\^11 & 0.0046 & 0.0113 & 0.034 & 0.496052 \\\\\n",
       "\t11 & 2\\^12 & 0.0132 & 0.0292 & 0.1588 & 1.18621 \\\\\n",
       "\t12 & 2\\^13 & 0.0333 & 0.0765 & 0.6467 & 2.78968 \\\\\n",
       "\t13 & 2\\^14 & 0.085 & 0.1845 & 4.1245 & 6.47602 \\\\\n",
       "\t14 & 2\\^15 & 0.2128 & 0.4374 & 47.5536 & 14.8736 \\\\\n",
       "\\end{tabular}\n"
      ],
      "text/plain": [
       "\u001b[1m14×5 DataFrame\u001b[0m\n",
       "\u001b[1m Row \u001b[0m│\u001b[1m degree \u001b[0m\u001b[1m nemo_gcd \u001b[0m\u001b[1m esi_fast_gcd \u001b[0m\u001b[1m esi_slow_gcd \u001b[0m\u001b[1m aM(n)logn    \u001b[0m\n",
       "     │\u001b[90m String \u001b[0m\u001b[90m Float64  \u001b[0m\u001b[90m Float64      \u001b[0m\u001b[90m Float64      \u001b[0m\u001b[90m Float64      \u001b[0m\n",
       "─────┼────────────────────────────────────────────────────────────\n",
       "   1 │ 2^2       0.0           0.0           0.0      0.0\n",
       "   2 │ 2^3       0.0           0.0           0.0      0.0\n",
       "   3 │ 2^4       0.0           0.0001        0.0      0.0\n",
       "   4 │ 2^5       0.0           0.0001        0.0      0.0\n",
       "   5 │ 2^6       0.0           0.0002        0.0001   0.000649248\n",
       "   6 │ 2^7       0.0001        0.0005        0.0002   0.00865629\n",
       "   7 │ 2^8       0.0003        0.0011        0.0005   0.0290613\n",
       "   8 │ 2^9       0.001         0.0024        0.0015   0.0796865\n",
       "   9 │ 2^10      0.0018        0.005         0.007    0.202633\n",
       "  10 │ 2^11      0.0046        0.0113        0.034    0.496052\n",
       "  11 │ 2^12      0.0132        0.0292        0.1588   1.18621\n",
       "  12 │ 2^13      0.0333        0.0765        0.6467   2.78968\n",
       "  13 │ 2^14      0.085         0.1845        4.1245   6.47602\n",
       "  14 │ 2^15      0.2128        0.4374       47.5536  14.8736"
      ]
     },
     "metadata": {},
     "output_type": "display_data"
    }
   ],
   "source": [
    "df[!, \"aM(n)logn\"] = [max(0, f(2^n)) for n in ns];\n",
    "df"
   ]
  },
  {
   "cell_type": "markdown",
   "metadata": {},
   "source": [
    "Not very close.."
   ]
  },
  {
   "cell_type": "markdown",
   "metadata": {},
   "source": []
  }
 ],
 "metadata": {
  "kernelspec": {
   "display_name": "Julia 1.8.2",
   "language": "julia",
   "name": "julia-1.8"
  },
  "language_info": {
   "file_extension": ".jl",
   "mimetype": "application/julia",
   "name": "julia",
   "version": "1.8.2"
  },
  "orig_nbformat": 4
 },
 "nbformat": 4,
 "nbformat_minor": 2
}
