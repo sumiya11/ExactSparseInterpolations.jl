{
 "cells": [
  {
   "attachments": {},
   "cell_type": "markdown",
   "metadata": {},
   "source": [
    "### Benchmarking Ben-Or and Tiwari algorithm \n",
    "\n",
    "#### Part I - Univariate polynomials over finite fields\n"
   ]
  },
  {
   "cell_type": "code",
   "execution_count": 1,
   "metadata": {},
   "outputs": [
    {
     "name": "stdout",
     "output_type": "stream",
     "text": [
      "\n",
      "Welcome to Nemo version 0.32.6\n",
      "\n",
      "Nemo comes with absolutely no warranty whatsoever\n",
      "\n"
     ]
    }
   ],
   "source": [
    "# include the ExactSparseInterpolations package from the local dir \n",
    "include(\"../src/ExactSparseInterpolations.jl\");"
   ]
  },
  {
   "cell_type": "code",
   "execution_count": 2,
   "metadata": {},
   "outputs": [],
   "source": [
    "using Nemo\n",
    "using BenchmarkTools\n",
    "using Primes\n",
    "using DataFrames"
   ]
  },
  {
   "attachments": {},
   "cell_type": "markdown",
   "metadata": {},
   "source": [
    "We benchmark on a sequence of polynomials $f_i$ for $i = 1,2,\\ldots,$.\n",
    "\n",
    "- the number of terms in polynomial $f_i$ is $2^i$;\n",
    "- the degree of all $f_i$ is constant and equals $2^{16}$;\n",
    "\n",
    "In the first experiment, the ground field is $Z/Z_{3*2^{30} + 1}$. In the second one the field is $F_{5^{12}}$.\n"
   ]
  },
  {
   "cell_type": "code",
   "execution_count": 3,
   "metadata": {},
   "outputs": [],
   "source": [
    "# from nanoseconds to seconds\n",
    "sround(t) = round(t, digits=4);\n",
    "ns2s(t) = sround(t / 1e9);"
   ]
  },
  {
   "cell_type": "code",
   "execution_count": 4,
   "metadata": {},
   "outputs": [
    {
     "data": {
      "text/plain": [
       "benchmark_benortiwari (generic function with 1 method)"
      ]
     },
     "execution_count": 4,
     "metadata": {},
     "output_type": "execute_result"
    }
   ],
   "source": [
    "function benchmark_benortiwari(R, ns)\n",
    "    times = (\n",
    "        total=Float64[],\n",
    "        padé=Float64[],\n",
    "        roots=Float64[],\n",
    "        dlog=Float64[],\n",
    "        vandermonde=Float64[]\n",
    "    )\n",
    "    K = base_ring(R)\n",
    "    x = first(gens(R))\n",
    "    randpoly(term_range, exp_range) = rand(R, term_range, exp_range)\n",
    "    D = 2^16\n",
    "    for i in ns\n",
    "        n = 2^i\n",
    "        f = mod(x^D + randpoly(n-1:n-1, 0:D), x^(D + 1) - 1)\n",
    "        @assert (length(f) - n) / n < 0.01\n",
    "        @assert degree(f, 1) == D\n",
    "        blackbox = ExactSparseInterpolations.Blackbox(f)\n",
    "        bot = ExactSparseInterpolations.FasterBenOrTiwari(R, length(f))\n",
    "        @assert f == ExactSparseInterpolations.interpolate!(bot, blackbox)\n",
    "        bench = @benchmarkable ExactSparseInterpolations.interpolate!($bot, $blackbox) samples=3\n",
    "        result = minimum(run(bench)).time\n",
    "        push!(times.total, ns2s(result))\n",
    "        internaltimes = ExactSparseInterpolations._runtime_benortiwari_dump()\n",
    "        push!(times.padé, sround(internaltimes.padé))\n",
    "        push!(times.roots, sround(internaltimes.roots))\n",
    "        push!(times.dlog, sround(internaltimes.dlog))\n",
    "        push!(times.vandermonde, sround(internaltimes.vandermonde))\n",
    "    end\n",
    "    times\n",
    "end"
   ]
  },
  {
   "cell_type": "code",
   "execution_count": 5,
   "metadata": {},
   "outputs": [],
   "source": [
    "Zp = GF(2^30*3 + 1)\n",
    "R_zp, (x_zp,) = PolynomialRing(Zp, [\"x\"])\n",
    "range_zp = 7:13\n",
    "times_zp = benchmark_benortiwari(R_zp, range_zp);"
   ]
  },
  {
   "cell_type": "code",
   "execution_count": 6,
   "metadata": {},
   "outputs": [],
   "source": [
    "# K = F_5^12\n",
    "Fqn = FqNmodFiniteField(fmpz(5), 12, :z)\n",
    "R_fqn, (x_fqn,) = PolynomialRing(Fqn, [\"x\"])\n",
    "range_fqn = 5:11\n",
    "times_fqn = benchmark_benortiwari(R_fqn, range_fqn);"
   ]
  },
  {
   "cell_type": "code",
   "execution_count": 9,
   "metadata": {},
   "outputs": [
    {
     "data": {
      "text/html": [
       "<div><div style = \"float: left;\"><span>7×6 DataFrame</span></div><div style = \"clear: both;\"></div></div><div class = \"data-frame\" style = \"overflow-x: scroll;\"><table class = \"data-frame\" style = \"margin-bottom: 6px;\"><thead><tr class = \"header\"><th class = \"rowNumber\" style = \"font-weight: bold; text-align: right;\">Row</th><th style = \"text-align: left;\">nterms</th><th style = \"text-align: left;\">total</th><th style = \"text-align: left;\">padé</th><th style = \"text-align: left;\">roots</th><th style = \"text-align: left;\">dlog</th><th style = \"text-align: left;\">vandermonde</th></tr><tr class = \"subheader headerLastRow\"><th class = \"rowNumber\" style = \"font-weight: bold; text-align: right;\"></th><th title = \"String\" style = \"text-align: left;\">String</th><th title = \"Float64\" style = \"text-align: left;\">Float64</th><th title = \"Float64\" style = \"text-align: left;\">Float64</th><th title = \"Float64\" style = \"text-align: left;\">Float64</th><th title = \"Float64\" style = \"text-align: left;\">Float64</th><th title = \"Float64\" style = \"text-align: left;\">Float64</th></tr></thead><tbody><tr><td class = \"rowNumber\" style = \"font-weight: bold; text-align: right;\">1</td><td style = \"text-align: left;\">2^7</td><td style = \"text-align: right;\">0.0145</td><td style = \"text-align: right;\">0.001</td><td style = \"text-align: right;\">0.009</td><td style = \"text-align: right;\">0.0019</td><td style = \"text-align: right;\">0.0003</td></tr><tr><td class = \"rowNumber\" style = \"font-weight: bold; text-align: right;\">2</td><td style = \"text-align: left;\">2^8</td><td style = \"text-align: right;\">0.0455</td><td style = \"text-align: right;\">0.0022</td><td style = \"text-align: right;\">0.0315</td><td style = \"text-align: right;\">0.004</td><td style = \"text-align: right;\">0.0007</td></tr><tr><td class = \"rowNumber\" style = \"font-weight: bold; text-align: right;\">3</td><td style = \"text-align: left;\">2^9</td><td style = \"text-align: right;\">0.1558</td><td style = \"text-align: right;\">0.0048</td><td style = \"text-align: right;\">0.1113</td><td style = \"text-align: right;\">0.0081</td><td style = \"text-align: right;\">0.0019</td></tr><tr><td class = \"rowNumber\" style = \"font-weight: bold; text-align: right;\">4</td><td style = \"text-align: left;\">2^10</td><td style = \"text-align: right;\">0.6158</td><td style = \"text-align: right;\">0.0126</td><td style = \"text-align: right;\">0.4651</td><td style = \"text-align: right;\">0.0168</td><td style = \"text-align: right;\">0.0048</td></tr><tr><td class = \"rowNumber\" style = \"font-weight: bold; text-align: right;\">5</td><td style = \"text-align: left;\">2^11</td><td style = \"text-align: right;\">2.3376</td><td style = \"text-align: right;\">0.0284</td><td style = \"text-align: right;\">1.796</td><td style = \"text-align: right;\">0.0335</td><td style = \"text-align: right;\">0.0131</td></tr><tr><td class = \"rowNumber\" style = \"font-weight: bold; text-align: right;\">6</td><td style = \"text-align: left;\">2^12</td><td style = \"text-align: right;\">7.3521</td><td style = \"text-align: right;\">0.0656</td><td style = \"text-align: right;\">5.4512</td><td style = \"text-align: right;\">0.0644</td><td style = \"text-align: right;\">0.035</td></tr><tr><td class = \"rowNumber\" style = \"font-weight: bold; text-align: right;\">7</td><td style = \"text-align: left;\">2^13</td><td style = \"text-align: right;\">24.1499</td><td style = \"text-align: right;\">0.1598</td><td style = \"text-align: right;\">17.22</td><td style = \"text-align: right;\">0.1303</td><td style = \"text-align: right;\">0.0881</td></tr></tbody></table></div>"
      ],
      "text/latex": [
       "\\begin{tabular}{r|cccccc}\n",
       "\t& nterms & total & padé & roots & dlog & vandermonde\\\\\n",
       "\t\\hline\n",
       "\t& String & Float64 & Float64 & Float64 & Float64 & Float64\\\\\n",
       "\t\\hline\n",
       "\t1 & 2\\^7 & 0.0145 & 0.001 & 0.009 & 0.0019 & 0.0003 \\\\\n",
       "\t2 & 2\\^8 & 0.0455 & 0.0022 & 0.0315 & 0.004 & 0.0007 \\\\\n",
       "\t3 & 2\\^9 & 0.1558 & 0.0048 & 0.1113 & 0.0081 & 0.0019 \\\\\n",
       "\t4 & 2\\^10 & 0.6158 & 0.0126 & 0.4651 & 0.0168 & 0.0048 \\\\\n",
       "\t5 & 2\\^11 & 2.3376 & 0.0284 & 1.796 & 0.0335 & 0.0131 \\\\\n",
       "\t6 & 2\\^12 & 7.3521 & 0.0656 & 5.4512 & 0.0644 & 0.035 \\\\\n",
       "\t7 & 2\\^13 & 24.1499 & 0.1598 & 17.22 & 0.1303 & 0.0881 \\\\\n",
       "\\end{tabular}\n"
      ],
      "text/plain": [
       "\u001b[1m7×6 DataFrame\u001b[0m\n",
       "\u001b[1m Row \u001b[0m│\u001b[1m nterms \u001b[0m\u001b[1m total   \u001b[0m\u001b[1m padé    \u001b[0m\u001b[1m roots   \u001b[0m\u001b[1m dlog    \u001b[0m\u001b[1m vandermonde \u001b[0m\n",
       "     │\u001b[90m String \u001b[0m\u001b[90m Float64 \u001b[0m\u001b[90m Float64 \u001b[0m\u001b[90m Float64 \u001b[0m\u001b[90m Float64 \u001b[0m\u001b[90m Float64     \u001b[0m\n",
       "─────┼─────────────────────────────────────────────────────────\n",
       "   1 │ 2^7      0.0145   0.001    0.009    0.0019       0.0003\n",
       "   2 │ 2^8      0.0455   0.0022   0.0315   0.004        0.0007\n",
       "   3 │ 2^9      0.1558   0.0048   0.1113   0.0081       0.0019\n",
       "   4 │ 2^10     0.6158   0.0126   0.4651   0.0168       0.0048\n",
       "   5 │ 2^11     2.3376   0.0284   1.796    0.0335       0.0131\n",
       "   6 │ 2^12     7.3521   0.0656   5.4512   0.0644       0.035\n",
       "   7 │ 2^13    24.1499   0.1598  17.22     0.1303       0.0881"
      ]
     },
     "execution_count": 9,
     "metadata": {},
     "output_type": "execute_result"
    }
   ],
   "source": [
    "df_zp = DataFrame(\n",
    "    nterms=[\"2^$i\" for i in range_zp], \n",
    "    total=times_zp.total,\n",
    "    padé=times_zp.padé,\n",
    "    roots=times_zp.roots,\n",
    "    dlog=times_zp.dlog,\n",
    "    vandermonde=times_zp.vandermonde\n",
    ")\n",
    "df_zp"
   ]
  },
  {
   "cell_type": "code",
   "execution_count": 10,
   "metadata": {},
   "outputs": [
    {
     "data": {
      "text/html": [
       "<div><div style = \"float: left;\"><span>7×6 DataFrame</span></div><div style = \"clear: both;\"></div></div><div class = \"data-frame\" style = \"overflow-x: scroll;\"><table class = \"data-frame\" style = \"margin-bottom: 6px;\"><thead><tr class = \"header\"><th class = \"rowNumber\" style = \"font-weight: bold; text-align: right;\">Row</th><th style = \"text-align: left;\">nterms</th><th style = \"text-align: left;\">total</th><th style = \"text-align: left;\">padé</th><th style = \"text-align: left;\">roots</th><th style = \"text-align: left;\">dlog</th><th style = \"text-align: left;\">vandermonde</th></tr><tr class = \"subheader headerLastRow\"><th class = \"rowNumber\" style = \"font-weight: bold; text-align: right;\"></th><th title = \"String\" style = \"text-align: left;\">String</th><th title = \"Float64\" style = \"text-align: left;\">Float64</th><th title = \"Float64\" style = \"text-align: left;\">Float64</th><th title = \"Float64\" style = \"text-align: left;\">Float64</th><th title = \"Float64\" style = \"text-align: left;\">Float64</th><th title = \"Float64\" style = \"text-align: left;\">Float64</th></tr></thead><tbody><tr><td class = \"rowNumber\" style = \"font-weight: bold; text-align: right;\">1</td><td style = \"text-align: left;\">2^5</td><td style = \"text-align: right;\">0.0967</td><td style = \"text-align: right;\">0.004</td><td style = \"text-align: right;\">0.0629</td><td style = \"text-align: right;\">0.0182</td><td style = \"text-align: right;\">0.002</td></tr><tr><td class = \"rowNumber\" style = \"font-weight: bold; text-align: right;\">2</td><td style = \"text-align: left;\">2^6</td><td style = \"text-align: right;\">0.3226</td><td style = \"text-align: right;\">0.0093</td><td style = \"text-align: right;\">0.1778</td><td style = \"text-align: right;\">0.0356</td><td style = \"text-align: right;\">0.0062</td></tr><tr><td class = \"rowNumber\" style = \"font-weight: bold; text-align: right;\">3</td><td style = \"text-align: left;\">2^7</td><td style = \"text-align: right;\">0.8008</td><td style = \"text-align: right;\">0.0272</td><td style = \"text-align: right;\">0.5062</td><td style = \"text-align: right;\">0.076</td><td style = \"text-align: right;\">0.018</td></tr><tr><td class = \"rowNumber\" style = \"font-weight: bold; text-align: right;\">4</td><td style = \"text-align: left;\">2^8</td><td style = \"text-align: right;\">2.099</td><td style = \"text-align: right;\">0.0606</td><td style = \"text-align: right;\">1.296</td><td style = \"text-align: right;\">0.1463</td><td style = \"text-align: right;\">0.0441</td></tr><tr><td class = \"rowNumber\" style = \"font-weight: bold; text-align: right;\">5</td><td style = \"text-align: left;\">2^9</td><td style = \"text-align: right;\">5.2864</td><td style = \"text-align: right;\">0.1468</td><td style = \"text-align: right;\">2.1439</td><td style = \"text-align: right;\">0.2869</td><td style = \"text-align: right;\">0.1088</td></tr><tr><td class = \"rowNumber\" style = \"font-weight: bold; text-align: right;\">6</td><td style = \"text-align: left;\">2^10</td><td style = \"text-align: right;\">15.65</td><td style = \"text-align: right;\">0.3358</td><td style = \"text-align: right;\">5.7162</td><td style = \"text-align: right;\">0.5786</td><td style = \"text-align: right;\">0.2579</td></tr><tr><td class = \"rowNumber\" style = \"font-weight: bold; text-align: right;\">7</td><td style = \"text-align: left;\">2^11</td><td style = \"text-align: right;\">53.5</td><td style = \"text-align: right;\">0.778</td><td style = \"text-align: right;\">16.63</td><td style = \"text-align: right;\">1.4316</td><td style = \"text-align: right;\">0.6301</td></tr></tbody></table></div>"
      ],
      "text/latex": [
       "\\begin{tabular}{r|cccccc}\n",
       "\t& nterms & total & padé & roots & dlog & vandermonde\\\\\n",
       "\t\\hline\n",
       "\t& String & Float64 & Float64 & Float64 & Float64 & Float64\\\\\n",
       "\t\\hline\n",
       "\t1 & 2\\^5 & 0.0967 & 0.004 & 0.0629 & 0.0182 & 0.002 \\\\\n",
       "\t2 & 2\\^6 & 0.3226 & 0.0093 & 0.1778 & 0.0356 & 0.0062 \\\\\n",
       "\t3 & 2\\^7 & 0.8008 & 0.0272 & 0.5062 & 0.076 & 0.018 \\\\\n",
       "\t4 & 2\\^8 & 2.099 & 0.0606 & 1.296 & 0.1463 & 0.0441 \\\\\n",
       "\t5 & 2\\^9 & 5.2864 & 0.1468 & 2.1439 & 0.2869 & 0.1088 \\\\\n",
       "\t6 & 2\\^10 & 15.65 & 0.3358 & 5.7162 & 0.5786 & 0.2579 \\\\\n",
       "\t7 & 2\\^11 & 53.5 & 0.778 & 16.63 & 1.4316 & 0.6301 \\\\\n",
       "\\end{tabular}\n"
      ],
      "text/plain": [
       "\u001b[1m7×6 DataFrame\u001b[0m\n",
       "\u001b[1m Row \u001b[0m│\u001b[1m nterms \u001b[0m\u001b[1m total   \u001b[0m\u001b[1m padé    \u001b[0m\u001b[1m roots   \u001b[0m\u001b[1m dlog    \u001b[0m\u001b[1m vandermonde \u001b[0m\n",
       "     │\u001b[90m String \u001b[0m\u001b[90m Float64 \u001b[0m\u001b[90m Float64 \u001b[0m\u001b[90m Float64 \u001b[0m\u001b[90m Float64 \u001b[0m\u001b[90m Float64     \u001b[0m\n",
       "─────┼─────────────────────────────────────────────────────────\n",
       "   1 │ 2^5      0.0967   0.004    0.0629   0.0182       0.002\n",
       "   2 │ 2^6      0.3226   0.0093   0.1778   0.0356       0.0062\n",
       "   3 │ 2^7      0.8008   0.0272   0.5062   0.076        0.018\n",
       "   4 │ 2^8      2.099    0.0606   1.296    0.1463       0.0441\n",
       "   5 │ 2^9      5.2864   0.1468   2.1439   0.2869       0.1088\n",
       "   6 │ 2^10    15.65     0.3358   5.7162   0.5786       0.2579\n",
       "   7 │ 2^11    53.5      0.778   16.63     1.4316       0.6301"
      ]
     },
     "execution_count": 10,
     "metadata": {},
     "output_type": "execute_result"
    }
   ],
   "source": [
    "df_fqn = DataFrame(\n",
    "    nterms=[\"2^$i\" for i in range_fqn], \n",
    "    total=times_fqn.total,\n",
    "    padé=times_fqn.padé,\n",
    "    roots=times_fqn.roots,\n",
    "    dlog=times_fqn.dlog,\n",
    "    vandermonde=times_fqn.vandermonde\n",
    ")\n",
    "df_fqn"
   ]
  }
 ],
 "metadata": {
  "kernelspec": {
   "display_name": "Julia 1.8.2",
   "language": "julia",
   "name": "julia-1.8"
  },
  "language_info": {
   "file_extension": ".jl",
   "mimetype": "application/julia",
   "name": "julia",
   "version": "1.8.2"
  },
  "orig_nbformat": 4
 },
 "nbformat": 4,
 "nbformat_minor": 2
}
