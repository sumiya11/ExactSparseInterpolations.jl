{
 "cells": [
  {
   "attachments": {},
   "cell_type": "markdown",
   "metadata": {},
   "source": [
    "## Factorization benchmarks\n",
    "#### ..and other experiments"
   ]
  },
  {
   "attachments": {},
   "cell_type": "markdown",
   "metadata": {},
   "source": [
    "Consider a multivariate polynomial $F$ over the finite field $\\mathbb{F}_q$ in the variables $x_1,\\ldots, x_n$.\n",
    "Throughout this page $D$ will stand for the total degree of $F$, $T$ for the number of non- zero terms of $F$, and $n$ for the number of variables. \n",
    "We will also write $L$ for the number of field operations in $\\mathbb{F}_q$ required to evaluate $F$."
   ]
  },
  {
   "attachments": {},
   "cell_type": "markdown",
   "metadata": {},
   "source": [
    "Measuring the complexity of factoring $F$ into irreducibles is a challenging task due to the large number of parameters involved. To name a few, the timings depend on \n",
    "\n",
    "1. The sparsity of $F$ and the factors of $F$, and the ratio between $T$, $D$, and $n$. In this report, we are generally concerned with sparse polynomials such that $n$ is proportional to or surpasses $D$, which often happens in practice.\n",
    "2. The ground field $\\mathbb{F}_q$, namely, the size of $q$. Here, we treat the case when the arithmetic in $\\mathbb{F}_q$ can be implemented efficiently, i.e., when $q$ is a prime small enough to fit in a 64-bit register."
   ]
  },
  {
   "attachments": {},
   "cell_type": "markdown",
   "metadata": {},
   "source": [
    "At the same time, it can be beneficial to draw the benchmark problems from the \"real-world\" tasks in computer algebra and other applications. We consider the testsuite consisting of the following problems:\n",
    "\n",
    "##### 1. $F$ is a determinant\n",
    "$F$ is the determinant of a matrix over a ring of polynomials.\n",
    "One example would be the determinant of the matrix $A$ defined by\n",
    "$$\n",
    "A = \n",
    "\\begin{pmatrix}\n",
    "x_1 & x_2 & \\cdots & x_n \\\\\n",
    "x_{n+1} & x_{n+2} & \\cdots & x_{2n} \\\\\n",
    "\\vdots & \\vdots & \\ddots & \\vdots \\\\\n",
    "x_{(n-1)n+1} & x_{(n-1)n+2} & \\cdots & x_{n^2}\n",
    "\\end{pmatrix}\n",
    "$$\n",
    "The determinant of $A$ is an *irreducible* polynomial in $n^2$ variables, and the number of non-zero terms is $n!$.\n",
    "\n",
    "The matrix can have structure that would adjust the properties of the determinant. Examples are:\n",
    "- **Hankel matrix**. The determinant is an irreducible polynomial of degree $D$ in $2n$ variables. The number of terms is around $n$ times less than in the general case.\n",
    "- **Toeplitz matrix**. The determinant is a polynomial of degree $D$ in $n$ variables. Almost the same number of terms as for the Hankel matrix, but splits into $2$ factors.\n",
    "- **Circlulant matrix**. The determinant is a polynomial of degree $D$ in $n$ variables. It splits into $\\mathcal{O}(n)$ factors.\n",
    "- **Vandermonde matrix**. The determinant is a polynomial of degree $\\frac{n^2 - n}{2}$ in $n$ variables that splits into the product of $\\frac{n^2 - n}{2}$ linear factors. \n",
    "\n",
    "One might also want to dehomogenize the homogeneous determinants before factoring them,"
   ]
  },
  {
   "attachments": {},
   "cell_type": "markdown",
   "metadata": {},
   "source": [
    "##### 2. $F$ is a product of random polynomials\n",
    "\n",
    "In this case, $F$ can be fine-tuned to have desired number and sparsity of its factors.\n"
   ]
  },
  {
   "attachments": {},
   "cell_type": "markdown",
   "metadata": {},
   "source": [
    "##### 3. $F$ is a resultant (perhaps, of resultants)\n",
    "\n"
   ]
  },
  {
   "attachments": {},
   "cell_type": "markdown",
   "metadata": {},
   "source": []
  },
  {
   "attachments": {},
   "cell_type": "markdown",
   "metadata": {},
   "source": [
    "Our algorithm may make decisions at various steps of the execution that directly affect the overall performance.\n",
    "\n",
    "##### Recursive vs. revealing approaches. \n",
    "\n",
    "Recursive approach finds a **true factor** of $F$ and descends recursively to the quotient of the factor and $F$. In practice, several true factors that depend on one of the indeterminates are found at once. Revealing approach artificially creates an indeterminate that reveals a complete factorization of $F$ and finds all of the factors in one go.\n",
    "\n",
    "Examples of transformations that would reveal a complete factorization are:\n",
    "\n",
    "1. 1\n",
    "2. 2\n",
    "\n",
    "##### Factor normalization.\n",
    "\n",
    "One approach is to apply a linear shift to the variables to create a constant term in the original polynomial.\n",
    "\n",
    "Another approach is to apply a power-product substitution to the variables to assure that there is only one trailing term of the lowest total degree.\n",
    "To this end, we apply a unimodular transform to variables that increases the total degree in all variables but the main one by a constant factor.\n",
    "We want the transform that is easy to generate, and increases the total degree $D$ by no more than a constant factor of $2$ or $3$.\n",
    "\n",
    "1. Generate an id. matrix and gradually fill the lower/upper part with random small elements.\n",
    "2. Generate an id. matrix and gradually fill the lower/upper diagonal with random small elements.\n",
    "3. Generate an id. matrix and multiply by a random combination of upper/lower triangular unimodular matrices.\n",
    "4. \n",
    "\n",
    "Under the transformation, $F$ will have a single trailing term $A_\\ell$ of the lowest total degree. We divide all of the evaluated factors by the trailing coefficient and multiply by the term $A_\\ell$ to get the normalized factors.\n",
    "\n",
    "##### Selecting the main variable.\n",
    "\n",
    "Out of all $n$ variable $x_1,\\ldots, x_n$, we select one to be the main variable.\n",
    "\n",
    "Conditions on the main variable $x_i$ are:\n",
    "\n",
    "- The leading coefficient of $F$ in $x_i$ does not vanish at $(0, \\ldots, 0)$,\n",
    "- $F(0,\\ldots, x_i, \\ldots, 0)$ is squarefree.\n",
    "\n",
    "Hopes on the main variable $x_i$ are:\n",
    "\n",
    "- $x_i$ has a small degree in $F$,\n",
    "- $x_i$ reveals many factors in $F$ *(in recursive approach)*,\n",
    "- there is a single trailing term of the lowest total degree w.r.t. $x_i$ *(in power-product approach)*."
   ]
  },
  {
   "attachments": {},
   "cell_type": "markdown",
   "metadata": {},
   "source": [
    "----"
   ]
  },
  {
   "cell_type": "code",
   "execution_count": 1,
   "metadata": {},
   "outputs": [
    {
     "data": {
      "text/plain": [
       "Main.ExactSparseInterpolations"
      ]
     },
     "metadata": {},
     "output_type": "display_data"
    }
   ],
   "source": [
    "using AbstractAlgebra, Nemo\n",
    "using LinearAlgebra\n",
    "include(\"../src/ExactSparseInterpolations.jl\")"
   ]
  },
  {
   "cell_type": "code",
   "execution_count": 266,
   "metadata": {},
   "outputs": [
    {
     "data": {
      "text/plain": [
       "random_irreducible_polynomial (generic function with 1 method)"
      ]
     },
     "metadata": {},
     "output_type": "display_data"
    }
   ],
   "source": [
    "#=\n",
    "    Generate a random monic **irreducible** polynomial over F_q\n",
    "    with n variables, partial degrees up to d, and exactly t terms\n",
    "\n",
    "    Each monomial x1^d1...xn^dn is sampled from a uniform distribution\n",
    "        di ~ U(0, d)\n",
    "    Each coefficient Cj is sampled from a uniform distribution\n",
    "        Cj ~ U(1, q - 1)\n",
    "=#\n",
    "function random_irreducible_polynomial(F_q, n::Integer, t::Integer, d::Integer)\n",
    "    R, xs = PolynomialRing(F_q, [\"x$i\" for i in 1:n])\n",
    "    q = Int(characteristic(F_q))\n",
    "    f = nothing\n",
    "    while true\n",
    "        monomials = Vector{elem_type(R)}(undef, 0)\n",
    "        coeffs = Vector{elem_type(F_q)}(undef, 0)\n",
    "        while length(monomials) < t\n",
    "            monomial = prod([xs[i]^rand(0:d) for i in 1:n])\n",
    "            if monomial ∉ monomials\n",
    "                push!(monomials, monomial)\n",
    "                push!(coeffs, rand(F_q, 1:q - 1))\n",
    "            end\n",
    "        end\n",
    "        f = sum([coeffs[i]*monomials[i] for i in 1:t])\n",
    "        length(factor(f)) == 1 && break\n",
    "    end\n",
    "    divexact(f, leading_coefficient(f))\n",
    "end"
   ]
  },
  {
   "cell_type": "code",
   "execution_count": 267,
   "metadata": {},
   "outputs": [
    {
     "data": {
      "text/plain": [
       "generate_resultant (generic function with 1 method)"
      ]
     },
     "metadata": {},
     "output_type": "display_data"
    }
   ],
   "source": [
    "function generate_resultant(K, n::Int)\n",
    "    x = gen(K)\n",
    "    y = gen(K)\n",
    "    f = prod(x - rand(K) for i in 1:n)\n",
    "    g = prod(y - rand(K) for i in 1:n)\n",
    "    return resultant(f, g)    \n",
    "end"
   ]
  },
  {
   "attachments": {},
   "cell_type": "markdown",
   "metadata": {},
   "source": [
    "----"
   ]
  },
  {
   "cell_type": "code",
   "execution_count": 268,
   "metadata": {},
   "outputs": [
    {
     "data": {
      "text/plain": [
       "generate_determinant_circulant (generic function with 1 method)"
      ]
     },
     "metadata": {},
     "output_type": "display_data"
    }
   ],
   "source": [
    "# Generating matrices\n",
    "function generate_determinant_general(K, n::Int)\n",
    "    R, xs = PolynomialRing(K, [\"x$i\" for i in 1:n^2])\n",
    "    S = MatrixSpace(R, n, n)\n",
    "    M = zero(S)\n",
    "    for i in 1:n, j in 1:n\n",
    "        M[i, j] = xs[j + (i-1)*n]\n",
    "    end\n",
    "    det(M)\n",
    "end\n",
    "\n",
    "function generate_determinant_vandermonde(K, n::Int)\n",
    "    R, xs = PolynomialRing(K, [\"x$i\" for i in 1:n])\n",
    "    S = MatrixSpace(R, n, n)\n",
    "    M = zero(S)\n",
    "    for i in 1:n\n",
    "        for j in 1:n\n",
    "            M[i, j] = xs[i]^(j - 1)\n",
    "        end\n",
    "    end\n",
    "    det(M)\n",
    "end\n",
    "\n",
    "function generate_determinant_hankel(K, n::Int)\n",
    "    R, xs = PolynomialRing(K, [\"x$i\" for i in 1:2n])\n",
    "    S = MatrixSpace(R, n, n)\n",
    "    M = zero(S)\n",
    "    for i in 1:n\n",
    "        for j in 1:n\n",
    "            M[i, j] = xs[i + j - 1]\n",
    "        end\n",
    "    end\n",
    "    det(M)\n",
    "end\n",
    "\n",
    "function generate_determinant_toeplitz(K, n::Int)\n",
    "    # note this is a special case of toeplitz matrices\n",
    "    # with n variables instead of 2n variables\n",
    "    R, xs = PolynomialRing(K, [\"x$i\" for i in 1:n])\n",
    "    S = MatrixSpace(R, n, n)\n",
    "    M = zero(S)\n",
    "    for i in 1:2n-1\n",
    "        if i <= n\n",
    "            for j in 1:n - i + 1\n",
    "                M[j, j + i - 1] = xs[i]\n",
    "            end\n",
    "        else\n",
    "            for j in (i - n + 1):n\n",
    "                M[j, j - (i - n)] = xs[i - n + 1]\n",
    "            end\n",
    "        end\n",
    "    end\n",
    "    det(M)\n",
    "end\n",
    "\n",
    "function generate_determinant_circulant(K, n::Int)\n",
    "    R, xs = PolynomialRing(K, [\"x$i\" for i in 1:n])\n",
    "    S = MatrixSpace(R, n, n)\n",
    "    M = zero(S)\n",
    "    for i in 1:2n-1\n",
    "        if i <= n\n",
    "            for j in 1:n - i + 1\n",
    "                M[j, j + i - 1] = xs[i]\n",
    "            end\n",
    "        else\n",
    "            for j in (i - n + 1):n\n",
    "                M[j, j - (i - n)] = xs[2n - i + 1]\n",
    "            end\n",
    "        end\n",
    "    end\n",
    "    det(M)\n",
    "end"
   ]
  },
  {
   "cell_type": "code",
   "execution_count": 269,
   "metadata": {},
   "outputs": [],
   "source": [
    "f1 = generate_determinant_general(K, 6);\n",
    "f2 = generate_determinant_hankel(K, 6);\n",
    "f3 = generate_determinant_toeplitz(K, 6);\n",
    "f4 = generate_determinant_circulant(K, 6);\n",
    "f5 = generate_determinant_vandermonde(K, 6);"
   ]
  },
  {
   "cell_type": "code",
   "execution_count": 270,
   "metadata": {},
   "outputs": [
    {
     "data": {
      "text/plain": [
       "(720, 231, 120, 68, 720)"
      ]
     },
     "metadata": {},
     "output_type": "display_data"
    }
   ],
   "source": [
    "length(f1), length(f2), length(f3), length(f4), length(f5)"
   ]
  },
  {
   "cell_type": "code",
   "execution_count": 271,
   "metadata": {},
   "outputs": [
    {
     "data": {
      "text/plain": [
       "(6, 6, 6, 6, 15)"
      ]
     },
     "metadata": {},
     "output_type": "display_data"
    }
   ],
   "source": [
    "total_degree(f1), total_degree(f2), total_degree(f3), total_degree(f4), total_degree(f5)"
   ]
  },
  {
   "cell_type": "code",
   "execution_count": 272,
   "metadata": {},
   "outputs": [
    {
     "data": {
      "text/plain": [
       "(1, 1, 2, 6, 15)"
      ]
     },
     "metadata": {},
     "output_type": "display_data"
    }
   ],
   "source": [
    "length(factor(f1)), length(factor(f2)), length(factor(f3)), length(factor(f4)), length(factor(f5))"
   ]
  },
  {
   "cell_type": "code",
   "execution_count": 352,
   "metadata": {},
   "outputs": [
    {
     "name": "stderr",
     "output_type": "stream",
     "text": [
      "WARNING: replacing module ExactSparseInterpolations.\n"
     ]
    },
    {
     "data": {
      "text/plain": [
       "2"
      ]
     },
     "metadata": {},
     "output_type": "display_data"
    }
   ],
   "source": [
    "using AbstractAlgebra, Nemo\n",
    "using LinearAlgebra\n",
    "include(\"../src/ExactSparseInterpolations.jl\")\n",
    "\n",
    "f = generate_determinant_toeplitz(K, 4)\n",
    "R = parent(f)\n",
    "xs = vars(f)\n",
    "f = evaluate(f, vcat(xs[1:end-1], [R(1)]))\n",
    "\n",
    "fact1 = factor(f)\n",
    "length(fact1)"
   ]
  },
  {
   "cell_type": "code",
   "execution_count": 319,
   "metadata": {},
   "outputs": [
    {
     "data": {
      "text/plain": [
       "2-element Vector{gfp_mpoly}:\n",
       " x1^2 + 2147483646*x1*x2 + 2147483646*x1 + 2147483646*x2^2 + 2*x2*x3 + x2 + 2147483646*x3^2\n",
       " x1^2 + x1*x2 + x1 + 2147483646*x2^2 + 2147483645*x2*x3 + x2 + 2147483646*x3^2"
      ]
     },
     "metadata": {},
     "output_type": "display_data"
    }
   ],
   "source": [
    "collect(keys(fact1.fac))"
   ]
  },
  {
   "cell_type": "code",
   "execution_count": 320,
   "metadata": {},
   "outputs": [
    {
     "name": "stderr",
     "output_type": "stream",
     "text": [
      "┌ Info: Factoring prim\n",
      "│   F = x1^4 + 2147483644*x1^2*x2^2 + 2147483645*x1^2*x3^2 + 2147483646*x1^2 + 4*x1*x2^2*x3 + 4*x1*x2*x3 + x2^4 + 2147483645*x2^3 + 2147483645*x2^2*x3^2 + x2^2 + 2147483645*x2*x3^2 + x3^4\n",
      "└ @ Main.ExactSparseInterpolations c:\\data\\projects\\interpol\\ExactSparseInterpolations.jl\\src\\factorization\\multivariate-factor-ff.jl:312\n",
      "┌ Info: \n",
      "│   success = false\n",
      "│   T = 16\n",
      "│   Pi = x1^4 + 2147483644*x1^2*x2^2 + 2147483645*x1^2*x3^2 + 2147483646*x1^2 + 4*x1*x2^2*x3 + 4*x1*x2*x3 + x2^4 + 2147483645*x2^3 + 2147483645*x2^2*x3^2 + x2^2 + 2147483645*x2*x3^2 + x3^4\n",
      "└ @ Main.ExactSparseInterpolations c:\\data\\projects\\interpol\\ExactSparseInterpolations.jl\\src\\factorization\\multivariate-factor-ff.jl:318\n"
     ]
    },
    {
     "data": {
      "text/plain": [
       "1-element Vector{gfp_mpoly}:\n",
       " x1^4 + 2147483644*x1^2*x2^2 + 2147483645*x1^2*x3^2 + 2147483646*x1^2 + 4*x1*x2^2*x3 + 4*x1*x2*x3 + x2^4 + 2147483645*x2^3 + 2147483645*x2^2*x3^2 + x2^2 + 2147483645*x2*x3^2 + x3^4"
      ]
     },
     "metadata": {},
     "output_type": "display_data"
    }
   ],
   "source": [
    "ExactSparseInterpolations.top_level_factorize(\n",
    "    f,\n",
    "    benchmark=true,\n",
    "    strategy=:recursive,\n",
    "    mainvar=:smalldegree\n",
    ")"
   ]
  },
  {
   "cell_type": "code",
   "execution_count": 263,
   "metadata": {},
   "outputs": [
    {
     "data": {
      "text/plain": [
       "uwu (generic function with 1 method)"
      ]
     },
     "metadata": {},
     "output_type": "display_data"
    }
   ],
   "source": [
    "function uwu(x; args...)\n",
    "    println(args)\n",
    "    @time Dict(args)\n",
    "    println(keys(args))\n",
    "    if !all(key -> key ∈ [:a, :b, :c], keys(args))\n",
    "        @warn \"Beda\"\n",
    "    end\n",
    "end"
   ]
  },
  {
   "cell_type": "code",
   "execution_count": 264,
   "metadata": {},
   "outputs": [
    {
     "name": "stdout",
     "output_type": "stream",
     "text": [
      "Base.Pairs{Symbol, Any, Tuple{Symbol, Symbol, Symbol}, NamedTuple{(:benchmark, :strategy, :mainvar), Tuple{Bool, Symbol, Symbol}}}(:benchmark => true, :strategy => :recursive, :mainvar => :smalldegree)\n",
      "  0.000004 seconds (7 allocations: 608 bytes)\n",
      "(:benchmark, :strategy, :mainvar)\n"
     ]
    },
    {
     "name": "stderr",
     "output_type": "stream",
     "text": [
      "┌ Warning: Beda\n",
      "└ @ Main c:\\data\\projects\\interpol\\ExactSparseInterpolations.jl\\perf\\factor-benchmarks.ipynb:6\n"
     ]
    }
   ],
   "source": [
    "uwu(f, \n",
    "benchmark=true,\n",
    "strategy=:recursive,\n",
    "mainvar=:smalldegree)"
   ]
  },
  {
   "cell_type": "code",
   "execution_count": 252,
   "metadata": {},
   "outputs": [
    {
     "ename": "MethodError",
     "evalue": "MethodError: no method matching Base.Pairs{Symbol, Any, Tuple{Symbol, Symbol, Symbol}, NamedTuple{(:benchmark, :strategy, :mainvar), Tuple{Bool, Symbol, Symbol}}}(::Pair{Symbol, Bool}, ::Pair{Symbol, Symbol}, ::Pair{Symbol, Symbol})\nClosest candidates are:\n  Base.Pairs{K, V, I, A}(::Any, ::Any) where {K, V, I, A} at essentials.jl:33",
     "output_type": "error",
     "traceback": [
      "MethodError: no method matching Base.Pairs{Symbol, Any, Tuple{Symbol, Symbol, Symbol}, NamedTuple{(:benchmark, :strategy, :mainvar), Tuple{Bool, Symbol, Symbol}}}(::Pair{Symbol, Bool}, ::Pair{Symbol, Symbol}, ::Pair{Symbol, Symbol})\n",
      "Closest candidates are:\n",
      "  Base.Pairs{K, V, I, A}(::Any, ::Any) where {K, V, I, A} at essentials.jl:33\n",
      "\n",
      "Stacktrace:\n",
      " [1] top-level scope\n",
      "   @ c:\\data\\projects\\interpol\\ExactSparseInterpolations.jl\\perf\\factor-benchmarks.ipynb:1"
     ]
    }
   ],
   "source": [
    "hmm = Base.Pairs{Symbol, Any, Tuple{Symbol, Symbol, Symbol}, NamedTuple{(:benchmark, :strategy, :mainvar), Tuple{Bool, Symbol, Symbol}}}(:benchmark => true, :strategy => :recursive, :mainvar => :smalldegree)"
   ]
  },
  {
   "cell_type": "code",
   "execution_count": 209,
   "metadata": {},
   "outputs": [
    {
     "name": "stdout",
     "output_type": "stream",
     "text": [
      "  0.000860 seconds (11 allocations: 1008 bytes)\n"
     ]
    },
    {
     "data": {
      "text/plain": [
       "Dict{gfp_mpoly, Int64} with 2 entries:\n",
       "  x1 + x2 + x3 + x4 + x5                                                    => 1\n",
       "  x1^4 + 2147483646*x1^3*x2 + 2147483646*x1^3*x3 + 2147483646*x1^3*x4 + 21… => 1"
      ]
     },
     "metadata": {},
     "output_type": "display_data"
    }
   ],
   "source": [
    "@time fact = factor(f)\n",
    "fact.fac"
   ]
  },
  {
   "cell_type": "code",
   "execution_count": 219,
   "metadata": {},
   "outputs": [
    {
     "name": "stdout",
     "output_type": "stream",
     "text": [
      "  0.023249 seconds (11.69 k allocations: 720.559 KiB, 97.48% compilation time)\n"
     ]
    },
    {
     "data": {
      "text/plain": [
       "1-element Vector{gfp_mpoly}:\n",
       " x1^5 + 2147483642*x1^3*x2*x5 + 2147483642*x1^3*x3*x4 + 5*x1^2*x2^2*x4 + 5*x1^2*x2*x3^2 + 5*x1^2*x3*x5^2 + 5*x1^2*x4^2*x5 + 2147483642*x1*x2^3*x3 + 5*x1*x2^2*x5^2 + 2147483642*x1*x2*x3*x4*x5 + 2147483642*x1*x2*x4^3 + 2147483642*x1*x3^3*x5 + 5*x1*x3^2*x4^2 + 2147483642*x1*x4*x5^3 + x2^5 + 2147483642*x2^3*x4*x5 + 5*x2^2*x3^2*x5 + 5*x2^2*x3*x4^2 + 2147483642*x2*x3^3*x4 + 2147483642*x2*x3*x5^3 + 5*x2*x4^2*x5^2 + x3^5 + 5*x3^2*x4*x5^2 + 2147483642*x3*x4^3*x5 + x4^5 + x5^5"
      ]
     },
     "metadata": {},
     "output_type": "display_data"
    }
   ],
   "source": [
    "@time factorization = ExactSparseInterpolations.top_level_factorize(f)"
   ]
  },
  {
   "attachments": {},
   "cell_type": "markdown",
   "metadata": {},
   "source": [
    "----\n",
    "\n",
    "Benchmark for matrices"
   ]
  },
  {
   "cell_type": "code",
   "execution_count": 335,
   "metadata": {},
   "outputs": [
    {
     "data": {
      "text/plain": [
       "benchmark_determinants (generic function with 1 method)"
      ]
     },
     "metadata": {},
     "output_type": "display_data"
    }
   ],
   "source": [
    "function benchmark_determinants(K, ns)\n",
    "    println(\"================\\nGeneral matrix (irreducible):\")\n",
    "    for n in ns\n",
    "        f = generate_determinant_general(K, n)\n",
    "        @time \"Nemo\" fact1 = factor(f)\n",
    "        @time \"Ours\" fact2 = ExactSparseInterpolations.top_level_factorize(\n",
    "            f,\n",
    "            benchmark=true\n",
    "        )\n",
    "        @assert prod(fact2) == f\n",
    "        @assert length(fact1) == length(fact2)\n",
    "        bench = ExactSparseInterpolations.dump_benchmarks()\n",
    "    end \n",
    "    # println(\"================\\nToeplitz matrix (2+ factors):\")\n",
    "    # for n in ns\n",
    "    #     f = generate_determinant_toeplitz(K, n)\n",
    "    #     @time \"Nemo\" fact1 = factor(f)\n",
    "    #     @time \"Ours\" fact2 = ExactSparseInterpolations.top_level_factorize(\n",
    "    #         f,\n",
    "    #         benchmark=true\n",
    "    #     )\n",
    "    #     @assert prod(fact2) == f\n",
    "    #     @assert length(fact1) == length(fact2)\n",
    "    #     bench = ExactSparseInterpolations.dump_benchmarks()\n",
    "    # end \n",
    "    # println(\"================\\nCirculant matrix (n factors):\")\n",
    "    # for n in ns\n",
    "    #     f = generate_determinant_circulant(K, n)\n",
    "    #     @time \"Nemo\" fact1 = factor(f)\n",
    "    #     @time \"Ours\" fact2 = ExactSparseInterpolations.top_level_factorize(\n",
    "    #         f,\n",
    "    #         benchmark=true\n",
    "    #     )\n",
    "    #     @assert prod(fact2) == f\n",
    "    #     @assert length(fact1) == length(fact2)\n",
    "    #     bench = ExactSparseInterpolations.dump_benchmarks()\n",
    "    # end \n",
    "    println(\"================\\nVandermonde matrix (n^2 factors):\")\n",
    "    for n in ns\n",
    "        f = generate_determinant_vandermonde(K, n)\n",
    "        @time \"Nemo\" fact1 = factor(f)\n",
    "        @time \"Ours\" fact2 = ExactSparseInterpolations.top_level_factorize(\n",
    "            f,\n",
    "            benchmark=true\n",
    "        )\n",
    "        # @assert length(fact1) == length(fact2)\n",
    "        # @assert prod(fact2) == f\n",
    "        bench = ExactSparseInterpolations.dump_benchmarks()\n",
    "    end \n",
    "end"
   ]
  },
  {
   "cell_type": "code",
   "execution_count": 353,
   "metadata": {},
   "outputs": [],
   "source": [
    "f = generate_determinant_vandermonde(K, 4);"
   ]
  },
  {
   "cell_type": "code",
   "execution_count": 354,
   "metadata": {},
   "outputs": [
    {
     "data": {
      "text/plain": [
       "Dict{gfp_mpoly, Int64} with 2 entries:\n",
       "  x1^2 + 2147483646*x1*x2 + 2147483646*x1 + 2147483646*x2^2 + 2*x2*x3 + x2… => 1\n",
       "  x1^2 + x1*x2 + x1 + 2147483646*x2^2 + 2147483645*x2*x3 + x2 + 2147483646… => 1"
      ]
     },
     "metadata": {},
     "output_type": "display_data"
    }
   ],
   "source": [
    "fact1.fac"
   ]
  },
  {
   "cell_type": "code",
   "execution_count": 355,
   "metadata": {},
   "outputs": [
    {
     "data": {
      "text/plain": [
       "1-element Vector{gfp_mpoly}:\n",
       " x1^3*x2^2*x3 + 2147483646*x1^3*x2^2*x4 + 2147483646*x1^3*x2*x3^2 + x1^3*x2*x4^2 + x1^3*x3^2*x4 + 2147483646*x1^3*x3*x4^2 + 2147483646*x1^2*x2^3*x3 + x1^2*x2^3*x4 + x1^2*x2*x3^3 + 2147483646*x1^2*x2*x4^3 + 2147483646*x1^2*x3^3*x4 + x1^2*x3*x4^3 + x1*x2^3*x3^2 + 2147483646*x1*x2^3*x4^2 + 2147483646*x1*x2^2*x3^3 + x1*x2^2*x4^3 + x1*x3^3*x4^2 + 2147483646*x1*x3^2*x4^3 + 2147483646*x2^3*x3^2*x4 + x2^3*x3*x4^2 + x2^2*x3^3*x4 + 2147483646*x2^2*x3*x4^3 + 2147483646*x2*x3^3*x4^2 + x2*x3^2*x4^3"
      ]
     },
     "metadata": {},
     "output_type": "display_data"
    }
   ],
   "source": [
    "fact2"
   ]
  },
  {
   "cell_type": "code",
   "execution_count": 349,
   "metadata": {},
   "outputs": [
    {
     "data": {
      "text/plain": [
       "Dict{Symbol, Any} with 15 entries:\n",
       "  :t_total                      => [0.0002679]\n",
       "  :t_finding_power_product      => Float64[]\n",
       "  :t_selecting_main_variable    => Float64[]\n",
       "  :t_removing_content           => Float64[]\n",
       "  :t_factoring_content          => [7.0e-6]\n",
       "  :v_points_used                => Int64[]\n",
       "  :t_select_main_variable       => [8.43e-5, 5.7e-5, 4.11e-5, 3.91e-5]\n",
       "  :t_interpolating_coefficients => Float64[]\n",
       "  :v_transform_degrees          => Tuple{Int64, Int64}[]\n",
       "  :t_prim_and_sqfree            => Float64[]\n",
       "  :v_transform_matrices         => Tuple{Matrix{Int64}, Matrix{Int64}}[]\n",
       "  :t_first_bivariate_factor     => Float64[]\n",
       "  :t_evaluating_coefficients    => Float64[]\n",
       "  :v_main_var                   => NamedTuple{(:main_var_idx, :degrees), Tuple{…\n",
       "  :t_many_hensel_liftings       => Float64[]"
      ]
     },
     "metadata": {},
     "output_type": "display_data"
    }
   ],
   "source": [
    "fact1 = factor(f)\n",
    "fact2 = ExactSparseInterpolations.top_level_factorize(\n",
    "    f,\n",
    "    benchmark=true\n",
    ");\n",
    "bench = ExactSparseInterpolations.dump_benchmarks()"
   ]
  },
  {
   "cell_type": "code",
   "execution_count": 345,
   "metadata": {},
   "outputs": [
    {
     "data": {
      "text/plain": [
       "0.2705279000000001"
      ]
     },
     "metadata": {},
     "output_type": "display_data"
    }
   ],
   "source": [
    "sum(bench[:t_removing_content])"
   ]
  },
  {
   "cell_type": "code",
   "execution_count": 336,
   "metadata": {},
   "outputs": [
    {
     "name": "stdout",
     "output_type": "stream",
     "text": [
      "================\n",
      "General matrix (irreducible):\n",
      "Nemo: 0.000235 seconds (9 allocations: 880 bytes)\n",
      "Ours: 0.000330 seconds (523 allocations: 40.578 KiB)\n",
      "Nemo: 0.000972 seconds (9 allocations: 944 bytes)\n",
      "Ours: 0.001164 seconds (1.15 k allocations: 97.688 KiB)\n",
      "Nemo: 0.003623 seconds (9 allocations: 1008 bytes)\n",
      "Ours: 0.005452 seconds (2.24 k allocations: 222.141 KiB)\n",
      "Nemo: 0.044408 seconds (9 allocations: 1.094 KiB)\n"
     ]
    },
    {
     "name": "stdout",
     "output_type": "stream",
     "text": [
      "Ours: 0.046697 seconds (4.49 k allocations: 652.625 KiB)"
     ]
    },
    {
     "name": "stdout",
     "output_type": "stream",
     "text": [
      "\n",
      "Nemo: 0.454816 seconds (9 allocations: 1.172 KiB)"
     ]
    },
    {
     "name": "stdout",
     "output_type": "stream",
     "text": [
      "\n",
      "Ours: 0.544331 seconds (11.24 k allocations: 2.850 MiB)"
     ]
    },
    {
     "name": "stdout",
     "output_type": "stream",
     "text": [
      "\n",
      "Nemo: 5.573186 seconds (9 allocations: 1.297 KiB)\n"
     ]
    },
    {
     "name": "stdout",
     "output_type": "stream",
     "text": [
      "Ours: 7.905760 seconds (49.94 k allocations: 23.370 MiB)\n",
      "================\n",
      "Vandermonde matrix (n^2 factors):"
     ]
    },
    {
     "name": "stdout",
     "output_type": "stream",
     "text": [
      "\n",
      "Nemo: 0.006475 seconds (13 allocations: 1.094 KiB)\n",
      "Ours: 0.001130 seconds (394 allocations: 27.609 KiB)\n",
      "Nemo: 0.000377 seconds (19 allocations: 1.609 KiB)\n",
      "Ours: 0.001420 seconds (895 allocations: 65.203 KiB)\n",
      "Nemo: 0.001442 seconds (27 allocations: 2.234 KiB)\n",
      "Ours: 0.000977 seconds (1.93 k allocations: 149.672 KiB)\n",
      "Nemo: 0.004431 seconds (51 allocations: 5.703 KiB)\n",
      "Ours: 0.019102 seconds (5.74 k allocations: 543.203 KiB)"
     ]
    },
    {
     "name": "stdout",
     "output_type": "stream",
     "text": [
      "\n",
      "Nemo: 0.037381 seconds (63 allocations: 6.734 KiB)\n",
      "Ours: 0.060576 seconds (33.14 k allocations: 3.418 MiB)"
     ]
    },
    {
     "name": "stdout",
     "output_type": "stream",
     "text": [
      "\n",
      "Nemo: 0.099291 seconds (77 allocations: 8.547 KiB)\n"
     ]
    },
    {
     "name": "stdout",
     "output_type": "stream",
     "text": [
      "Ours: 0.315546 seconds (303.92 k allocations: 36.857 MiB)\n"
     ]
    }
   ],
   "source": [
    "K = Nemo.GF(2^31-1)\n",
    "ns = 3, 4, 5, 6, 7, 8\n",
    "benchmark_determinants(K, ns)"
   ]
  },
  {
   "cell_type": "code",
   "execution_count": null,
   "metadata": {},
   "outputs": [],
   "source": []
  }
 ],
 "metadata": {
  "kernelspec": {
   "display_name": "Julia 1.8.2",
   "language": "julia",
   "name": "julia-1.8"
  },
  "language_info": {
   "file_extension": ".jl",
   "mimetype": "application/julia",
   "name": "julia",
   "version": "1.8.2"
  },
  "orig_nbformat": 4
 },
 "nbformat": 4,
 "nbformat_minor": 2
}
