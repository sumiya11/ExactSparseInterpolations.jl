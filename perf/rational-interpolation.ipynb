{
 "cells": [
  {
   "attachments": {},
   "cell_type": "markdown",
   "metadata": {},
   "source": [
    "### Benchmarking rational interpolation over finite fields \n",
    "\n",
    "..using van der Hoeven and Lecerf algorihm with the **known bounds** on the partial degrees and number of terms in the interpolant."
   ]
  },
  {
   "cell_type": "code",
   "execution_count": 2,
   "metadata": {},
   "outputs": [
    {
     "name": "stderr",
     "output_type": "stream",
     "text": [
      "WARNING: replacing module ExactSparseInterpolations.\n"
     ]
    }
   ],
   "source": [
    "# include the ExactSparseInterpolations package from the local dir \n",
    "include(\"../src/ExactSparseInterpolations.jl\");"
   ]
  },
  {
   "cell_type": "code",
   "execution_count": 3,
   "metadata": {},
   "outputs": [],
   "source": [
    "using Nemo\n",
    "using BenchmarkTools\n",
    "using Primes\n",
    "using DataFrames\n",
    "using LinearAlgebra\n",
    "using Plots"
   ]
  },
  {
   "attachments": {},
   "cell_type": "markdown",
   "metadata": {},
   "source": [
    "#### Part 0 - what hides behind $M(n)$\n",
    "\n",
    "Here, we benchmark the multiplication of polynomials over finite fields. We want to verify that the complexity of multiplication $M(n)$ grows as $nlog^k(n)$ for some small positive $k$.\n",
    "\n",
    "The multiplication routine itself is a call to a compiled Flint library.\n"
   ]
  },
  {
   "cell_type": "code",
   "execution_count": 4,
   "metadata": {},
   "outputs": [],
   "source": [
    "_base = 2;"
   ]
  },
  {
   "cell_type": "code",
   "execution_count": 5,
   "metadata": {},
   "outputs": [],
   "source": [
    "# from nanoseconds to seconds\n",
    "sround(t) = round(t, digits=4);\n",
    "ns2s(t) = sround(t / 1e9);"
   ]
  },
  {
   "cell_type": "code",
   "execution_count": 6,
   "metadata": {},
   "outputs": [
    {
     "data": {
      "text/plain": [
       "benchmark_mulitiply (generic function with 1 method)"
      ]
     },
     "execution_count": 6,
     "metadata": {},
     "output_type": "execute_result"
    }
   ],
   "source": [
    "# Benchmark the multiplication of polynomials\n",
    "# on the range of degrees _base ^ n, for n in ns\n",
    "function benchmark_mulitiply(R, ns)\n",
    "    times = (\n",
    "        total=Float64[],\n",
    "    )\n",
    "    K = base_ring(R)\n",
    "    x = gen(R)\n",
    "    randpoly(degree_range) = rand(R, degree_range)\n",
    "    for i in ns\n",
    "        n = floor(Int, _base^i)\n",
    "        f1 = randpoly(n:n)\n",
    "        f2 = randpoly(n:n)\n",
    "        @assert degree(f1) == _base^i\n",
    "        @assert degree(f2) == _base^i\n",
    "        bench = @benchmarkable *($f1, $f2) samples=3\n",
    "        result = mean(run(bench)).time\n",
    "        push!(times.total, ns2s(result))\n",
    "    end\n",
    "    times\n",
    "end"
   ]
  },
  {
   "cell_type": "code",
   "execution_count": 12,
   "metadata": {},
   "outputs": [
    {
     "data": {
      "text/plain": [
       "(total = [0.0063, 0.0118, 0.03, 0.0615, 0.1351, 0.2908, 0.7659, 1.5685, 3.2669],)"
      ]
     },
     "execution_count": 12,
     "metadata": {},
     "output_type": "execute_result"
    }
   ],
   "source": [
    "Zp = GF(2^30*3 + 1)\n",
    "R_u, x_u = PolynomialRing(Zp, \"x\")\n",
    "range_u = 14:22\n",
    "times_u = benchmark_mulitiply(R_u, range_u)"
   ]
  },
  {
   "cell_type": "code",
   "execution_count": 18,
   "metadata": {},
   "outputs": [
    {
     "data": {
      "text/html": [
       "<div><div style = \"float: left;\"><span>9×2 DataFrame</span></div><div style = \"clear: both;\"></div></div><div class = \"data-frame\" style = \"overflow-x: scroll;\"><table class = \"data-frame\" style = \"margin-bottom: 6px;\"><thead><tr class = \"header\"><th class = \"rowNumber\" style = \"font-weight: bold; text-align: right;\">Row</th><th style = \"text-align: left;\">degree</th><th style = \"text-align: left;\">total</th></tr><tr class = \"subheader headerLastRow\"><th class = \"rowNumber\" style = \"font-weight: bold; text-align: right;\"></th><th title = \"String\" style = \"text-align: left;\">String</th><th title = \"Float64\" style = \"text-align: left;\">Float64</th></tr></thead><tbody><tr><td class = \"rowNumber\" style = \"font-weight: bold; text-align: right;\">1</td><td style = \"text-align: left;\">2^14</td><td style = \"text-align: right;\">0.0063</td></tr><tr><td class = \"rowNumber\" style = \"font-weight: bold; text-align: right;\">2</td><td style = \"text-align: left;\">2^15</td><td style = \"text-align: right;\">0.0118</td></tr><tr><td class = \"rowNumber\" style = \"font-weight: bold; text-align: right;\">3</td><td style = \"text-align: left;\">2^16</td><td style = \"text-align: right;\">0.03</td></tr><tr><td class = \"rowNumber\" style = \"font-weight: bold; text-align: right;\">4</td><td style = \"text-align: left;\">2^17</td><td style = \"text-align: right;\">0.0615</td></tr><tr><td class = \"rowNumber\" style = \"font-weight: bold; text-align: right;\">5</td><td style = \"text-align: left;\">2^18</td><td style = \"text-align: right;\">0.1351</td></tr><tr><td class = \"rowNumber\" style = \"font-weight: bold; text-align: right;\">6</td><td style = \"text-align: left;\">2^19</td><td style = \"text-align: right;\">0.2908</td></tr><tr><td class = \"rowNumber\" style = \"font-weight: bold; text-align: right;\">7</td><td style = \"text-align: left;\">2^20</td><td style = \"text-align: right;\">0.7659</td></tr><tr><td class = \"rowNumber\" style = \"font-weight: bold; text-align: right;\">8</td><td style = \"text-align: left;\">2^21</td><td style = \"text-align: right;\">1.5685</td></tr><tr><td class = \"rowNumber\" style = \"font-weight: bold; text-align: right;\">9</td><td style = \"text-align: left;\">2^22</td><td style = \"text-align: right;\">3.2669</td></tr></tbody></table></div>"
      ],
      "text/latex": [
       "\\begin{tabular}{r|cc}\n",
       "\t& degree & total\\\\\n",
       "\t\\hline\n",
       "\t& String & Float64\\\\\n",
       "\t\\hline\n",
       "\t1 & 2\\^14 & 0.0063 \\\\\n",
       "\t2 & 2\\^15 & 0.0118 \\\\\n",
       "\t3 & 2\\^16 & 0.03 \\\\\n",
       "\t4 & 2\\^17 & 0.0615 \\\\\n",
       "\t5 & 2\\^18 & 0.1351 \\\\\n",
       "\t6 & 2\\^19 & 0.2908 \\\\\n",
       "\t7 & 2\\^20 & 0.7659 \\\\\n",
       "\t8 & 2\\^21 & 1.5685 \\\\\n",
       "\t9 & 2\\^22 & 3.2669 \\\\\n",
       "\\end{tabular}\n"
      ],
      "text/plain": [
       "\u001b[1m9×2 DataFrame\u001b[0m\n",
       "\u001b[1m Row \u001b[0m│\u001b[1m degree \u001b[0m\u001b[1m total   \u001b[0m\n",
       "     │\u001b[90m String \u001b[0m\u001b[90m Float64 \u001b[0m\n",
       "─────┼─────────────────\n",
       "   1 │ 2^14     0.0063\n",
       "   2 │ 2^15     0.0118\n",
       "   3 │ 2^16     0.03\n",
       "   4 │ 2^17     0.0615\n",
       "   5 │ 2^18     0.1351\n",
       "   6 │ 2^19     0.2908\n",
       "   7 │ 2^20     0.7659\n",
       "   8 │ 2^21     1.5685\n",
       "   9 │ 2^22     3.2669"
      ]
     },
     "execution_count": 18,
     "metadata": {},
     "output_type": "execute_result"
    }
   ],
   "source": [
    "df_u = DataFrame(\n",
    "    degree=[\"$_base^$i\" for i in range_u], \n",
    "    total=times_u.total\n",
    ")\n",
    "df_u"
   ]
  },
  {
   "attachments": {},
   "cell_type": "markdown",
   "metadata": {},
   "source": [
    "The factor $M(n+1)/M(n)$ is more or less constant, and roughly equals $2 + \\frac{log(n) + k}{log^2(n)}$.\n",
    "\n",
    "So the multiplication is likely to have $nlog^k(n)$ complexity."
   ]
  },
  {
   "attachments": {},
   "cell_type": "markdown",
   "metadata": {},
   "source": [
    "#### Part 1 - fixed degree"
   ]
  },
  {
   "attachments": {},
   "cell_type": "markdown",
   "metadata": {},
   "source": [
    "As the number of terms $T$ grows, the runtime grows as $M(T)\\log T$, or $T\\log^kT$. **Is it true?**\n",
    "\n",
    "We benchmark on a sequence of rational functions $f_i$ for $i = 1,2,\\ldots,$.\n",
    "\n",
    "- the number of terms both in the numerator and denominator of $f_i$ is $1.5^i$;\n",
    "- the total degree of $f_i$ is constant and equals $2^{7}$;\n",
    "\n",
    "In this experiment, the ground field is $Z/Z_{3*2^{30} + 1}$."
   ]
  },
  {
   "cell_type": "code",
   "execution_count": 33,
   "metadata": {},
   "outputs": [
    {
     "data": {
      "text/plain": [
       "1.5"
      ]
     },
     "execution_count": 33,
     "metadata": {},
     "output_type": "execute_result"
    }
   ],
   "source": [
    "_base = 1.5"
   ]
  },
  {
   "cell_type": "code",
   "execution_count": 35,
   "metadata": {},
   "outputs": [
    {
     "data": {
      "text/plain": [
       "benchmark_vdhl_nterms (generic function with 1 method)"
      ]
     },
     "execution_count": 35,
     "metadata": {},
     "output_type": "execute_result"
    }
   ],
   "source": [
    "# Benchmark the interpolation of a rational function\n",
    "# on the range of terms _base ^ n, for n in ns\n",
    "function benchmark_vdhl_nterms(R, ns)\n",
    "    times = (\n",
    "        total=Float64[],\n",
    "        cauchy=Float64[],\n",
    "        pointsmanip=Float64[],\n",
    "        evaluate=Float64[],\n",
    "        benortiwari=Float64[],\n",
    "    )\n",
    "    K = base_ring(R)\n",
    "    xs = gens(R)\n",
    "    randpoly(term_range, exp_range) = rand(R, term_range, exp_range)\n",
    "    D = 2^7\n",
    "    Dav = div(D, length(xs)) \n",
    "    for i in ns\n",
    "        n = floor(Int, _base^i)\n",
    "        f1 = xs[1]^D + randpoly(n-1:n-1, 0:Dav)\n",
    "        f2 = xs[1]^D + randpoly(n-1:n-1, 0:Dav)\n",
    "        @assert (length(f1) - n) / n < 0.01\n",
    "        @assert (length(f2) - n) / n < 0.01\n",
    "        @assert total_degree(f1) == D\n",
    "        @assert total_degree(f2) == D\n",
    "        func = f1 // f2\n",
    "        blackbox = ExactSparseInterpolations.Blackbox(func)\n",
    "        info = ExactSparseInterpolations.getboundsinfo(func)\n",
    "        vdhl = ExactSparseInterpolations.FasterVanDerHoevenLecerf(R, info)\n",
    "        \n",
    "        P, Q = ExactSparseInterpolations.interpolate!(vdhl, blackbox)\n",
    "        @assert P//Q == func\n",
    "        \n",
    "        bench = @benchmarkable ExactSparseInterpolations.interpolate!($vdhl, $blackbox) samples=3\n",
    "        result = mean(run(bench)).time\n",
    "        push!(times.total, ns2s(result))\n",
    "        internaltimes = ExactSparseInterpolations._runtime_vdhl_dump()\n",
    "        push!(times.cauchy, sround(internaltimes.cauchy))\n",
    "        push!(times.pointsmanip, sround(internaltimes.pointsmanip))\n",
    "        push!(times.evaluate, sround(internaltimes.evaluate))\n",
    "        push!(times.benortiwari, sround(internaltimes.benortiwari))\n",
    "    end\n",
    "    times\n",
    "end"
   ]
  },
  {
   "cell_type": "code",
   "execution_count": 36,
   "metadata": {},
   "outputs": [
    {
     "data": {
      "text/plain": [
       "(total = [0.0208, 0.0421, 0.0821, 0.1102, 0.2124, 0.3488, 0.5756, 0.8186], cauchy = [0.0134, 0.0325, 0.039, 0.0641, 0.1048, 0.2658, 0.2657, 0.3977], pointsmanip = [0.0011, 0.0022, 0.0031, 0.0051, 0.0077, 0.0104, 0.0147, 0.0217], evaluate = [0.0072, 0.0183, 0.0331, 0.0448, 0.0846, 0.1134, 0.252, 0.3379], benortiwari = [0.0004, 0.0005, 0.0012, 0.0014, 0.0029, 0.0035, 0.0055, 0.0091])"
      ]
     },
     "execution_count": 36,
     "metadata": {},
     "output_type": "execute_result"
    }
   ],
   "source": [
    "Zp = GF(2^30*3 + 1)\n",
    "R_zp, x_zp = PolynomialRing(Zp, [\"x\",\"y\",\"z\"])\n",
    "range_zp = 3:10\n",
    "times_zp = benchmark_vdhl_nterms(R_zp, range_zp)"
   ]
  },
  {
   "cell_type": "code",
   "execution_count": 38,
   "metadata": {},
   "outputs": [
    {
     "data": {
      "text/html": [
       "<div><div style = \"float: left;\"><span>8×6 DataFrame</span></div><div style = \"clear: both;\"></div></div><div class = \"data-frame\" style = \"overflow-x: scroll;\"><table class = \"data-frame\" style = \"margin-bottom: 6px;\"><thead><tr class = \"header\"><th class = \"rowNumber\" style = \"font-weight: bold; text-align: right;\">Row</th><th style = \"text-align: left;\">nterms</th><th style = \"text-align: left;\">total</th><th style = \"text-align: left;\">cauchy</th><th style = \"text-align: left;\">points_manip</th><th style = \"text-align: left;\">evaluate</th><th style = \"text-align: left;\">benortiwari</th></tr><tr class = \"subheader headerLastRow\"><th class = \"rowNumber\" style = \"font-weight: bold; text-align: right;\"></th><th title = \"String\" style = \"text-align: left;\">String</th><th title = \"Float64\" style = \"text-align: left;\">Float64</th><th title = \"Float64\" style = \"text-align: left;\">Float64</th><th title = \"Float64\" style = \"text-align: left;\">Float64</th><th title = \"Float64\" style = \"text-align: left;\">Float64</th><th title = \"Float64\" style = \"text-align: left;\">Float64</th></tr></thead><tbody><tr><td class = \"rowNumber\" style = \"font-weight: bold; text-align: right;\">1</td><td style = \"text-align: left;\">1.5^3</td><td style = \"text-align: right;\">0.0208</td><td style = \"text-align: right;\">0.0134</td><td style = \"text-align: right;\">0.0011</td><td style = \"text-align: right;\">0.0072</td><td style = \"text-align: right;\">0.0004</td></tr><tr><td class = \"rowNumber\" style = \"font-weight: bold; text-align: right;\">2</td><td style = \"text-align: left;\">1.5^4</td><td style = \"text-align: right;\">0.0421</td><td style = \"text-align: right;\">0.0325</td><td style = \"text-align: right;\">0.0022</td><td style = \"text-align: right;\">0.0183</td><td style = \"text-align: right;\">0.0005</td></tr><tr><td class = \"rowNumber\" style = \"font-weight: bold; text-align: right;\">3</td><td style = \"text-align: left;\">1.5^5</td><td style = \"text-align: right;\">0.0821</td><td style = \"text-align: right;\">0.039</td><td style = \"text-align: right;\">0.0031</td><td style = \"text-align: right;\">0.0331</td><td style = \"text-align: right;\">0.0012</td></tr><tr><td class = \"rowNumber\" style = \"font-weight: bold; text-align: right;\">4</td><td style = \"text-align: left;\">1.5^6</td><td style = \"text-align: right;\">0.1102</td><td style = \"text-align: right;\">0.0641</td><td style = \"text-align: right;\">0.0051</td><td style = \"text-align: right;\">0.0448</td><td style = \"text-align: right;\">0.0014</td></tr><tr><td class = \"rowNumber\" style = \"font-weight: bold; text-align: right;\">5</td><td style = \"text-align: left;\">1.5^7</td><td style = \"text-align: right;\">0.2124</td><td style = \"text-align: right;\">0.1048</td><td style = \"text-align: right;\">0.0077</td><td style = \"text-align: right;\">0.0846</td><td style = \"text-align: right;\">0.0029</td></tr><tr><td class = \"rowNumber\" style = \"font-weight: bold; text-align: right;\">6</td><td style = \"text-align: left;\">1.5^8</td><td style = \"text-align: right;\">0.3488</td><td style = \"text-align: right;\">0.2658</td><td style = \"text-align: right;\">0.0104</td><td style = \"text-align: right;\">0.1134</td><td style = \"text-align: right;\">0.0035</td></tr><tr><td class = \"rowNumber\" style = \"font-weight: bold; text-align: right;\">7</td><td style = \"text-align: left;\">1.5^9</td><td style = \"text-align: right;\">0.5756</td><td style = \"text-align: right;\">0.2657</td><td style = \"text-align: right;\">0.0147</td><td style = \"text-align: right;\">0.252</td><td style = \"text-align: right;\">0.0055</td></tr><tr><td class = \"rowNumber\" style = \"font-weight: bold; text-align: right;\">8</td><td style = \"text-align: left;\">1.5^10</td><td style = \"text-align: right;\">0.8186</td><td style = \"text-align: right;\">0.3977</td><td style = \"text-align: right;\">0.0217</td><td style = \"text-align: right;\">0.3379</td><td style = \"text-align: right;\">0.0091</td></tr></tbody></table></div>"
      ],
      "text/latex": [
       "\\begin{tabular}{r|cccccc}\n",
       "\t& nterms & total & cauchy & points\\_manip & evaluate & benortiwari\\\\\n",
       "\t\\hline\n",
       "\t& String & Float64 & Float64 & Float64 & Float64 & Float64\\\\\n",
       "\t\\hline\n",
       "\t1 & 1.5\\^3 & 0.0208 & 0.0134 & 0.0011 & 0.0072 & 0.0004 \\\\\n",
       "\t2 & 1.5\\^4 & 0.0421 & 0.0325 & 0.0022 & 0.0183 & 0.0005 \\\\\n",
       "\t3 & 1.5\\^5 & 0.0821 & 0.039 & 0.0031 & 0.0331 & 0.0012 \\\\\n",
       "\t4 & 1.5\\^6 & 0.1102 & 0.0641 & 0.0051 & 0.0448 & 0.0014 \\\\\n",
       "\t5 & 1.5\\^7 & 0.2124 & 0.1048 & 0.0077 & 0.0846 & 0.0029 \\\\\n",
       "\t6 & 1.5\\^8 & 0.3488 & 0.2658 & 0.0104 & 0.1134 & 0.0035 \\\\\n",
       "\t7 & 1.5\\^9 & 0.5756 & 0.2657 & 0.0147 & 0.252 & 0.0055 \\\\\n",
       "\t8 & 1.5\\^10 & 0.8186 & 0.3977 & 0.0217 & 0.3379 & 0.0091 \\\\\n",
       "\\end{tabular}\n"
      ],
      "text/plain": [
       "\u001b[1m8×6 DataFrame\u001b[0m\n",
       "\u001b[1m Row \u001b[0m│\u001b[1m nterms \u001b[0m\u001b[1m total   \u001b[0m\u001b[1m cauchy  \u001b[0m\u001b[1m points_manip \u001b[0m\u001b[1m evaluate \u001b[0m\u001b[1m benortiwari \u001b[0m\n",
       "     │\u001b[90m String \u001b[0m\u001b[90m Float64 \u001b[0m\u001b[90m Float64 \u001b[0m\u001b[90m Float64      \u001b[0m\u001b[90m Float64  \u001b[0m\u001b[90m Float64     \u001b[0m\n",
       "─────┼───────────────────────────────────────────────────────────────\n",
       "   1 │ 1.5^3    0.0208   0.0134        0.0011    0.0072       0.0004\n",
       "   2 │ 1.5^4    0.0421   0.0325        0.0022    0.0183       0.0005\n",
       "   3 │ 1.5^5    0.0821   0.039         0.0031    0.0331       0.0012\n",
       "   4 │ 1.5^6    0.1102   0.0641        0.0051    0.0448       0.0014\n",
       "   5 │ 1.5^7    0.2124   0.1048        0.0077    0.0846       0.0029\n",
       "   6 │ 1.5^8    0.3488   0.2658        0.0104    0.1134       0.0035\n",
       "   7 │ 1.5^9    0.5756   0.2657        0.0147    0.252        0.0055\n",
       "   8 │ 1.5^10   0.8186   0.3977        0.0217    0.3379       0.0091"
      ]
     },
     "execution_count": 38,
     "metadata": {},
     "output_type": "execute_result"
    }
   ],
   "source": [
    "df_zp = DataFrame(\n",
    "    nterms=[\"$_base^$i\" for i in range_zp], \n",
    "    total=times_zp.total,\n",
    "    cauchy=times_zp.cauchy,\n",
    "    points_manip=times_zp.pointsmanip,\n",
    "    evaluate=times_zp.evaluate,\n",
    "    benortiwari=times_zp.benortiwari,\n",
    ")\n",
    "df_zp"
   ]
  },
  {
   "attachments": {},
   "cell_type": "markdown",
   "metadata": {},
   "source": [
    "Fitting $f(n)$ to experimental data,\n",
    "\n",
    "$$\n",
    "f(n) = a\\cdot nlog(n)^2 + b\\cdot nlog(n) + c\\cdot n + d\\cdot log(n)\n",
    "$$"
   ]
  },
  {
   "cell_type": "code",
   "execution_count": 44,
   "metadata": {},
   "outputs": [
    {
     "data": {
      "text/plain": [
       "4-element Vector{Float64}:\n",
       "  0.0008337100371275775\n",
       " -0.015464141737641319\n",
       "  0.07963640519579082\n",
       " -0.09086632791647017"
      ]
     },
     "execution_count": 44,
     "metadata": {},
     "output_type": "execute_result"
    }
   ],
   "source": [
    "# Solve Ax = b\n",
    "literal_range = _base .^ range_zp\n",
    "A = hcat(\n",
    "    [n*log2(n)^2 for n in literal_range],\n",
    "    [n*log2(n) for n in literal_range],\n",
    "    [n for n in literal_range],\n",
    "    [log2(n) for n in literal_range],\n",
    ")\n",
    "# add a small random term as a regularization\n",
    "b = (times_zp.total - times_zp.evaluate) .+ 0.01\n",
    "a, b, c, d = A \\ b"
   ]
  },
  {
   "cell_type": "code",
   "execution_count": 45,
   "metadata": {},
   "outputs": [
    {
     "data": {
      "text/plain": [
       "f (generic function with 1 method)"
      ]
     },
     "execution_count": 45,
     "metadata": {},
     "output_type": "execute_result"
    }
   ],
   "source": [
    "f(n) = a*n*log2(n)^2 + b*n*log2(n) + c*n + d*log2(n)"
   ]
  },
  {
   "cell_type": "code",
   "execution_count": 46,
   "metadata": {},
   "outputs": [
    {
     "data": {
      "text/html": [
       "<div><div style = \"float: left;\"><span>8×3 DataFrame</span></div><div style = \"clear: both;\"></div></div><div class = \"data-frame\" style = \"overflow-x: scroll;\"><table class = \"data-frame\" style = \"margin-bottom: 6px;\"><thead><tr class = \"header\"><th class = \"rowNumber\" style = \"font-weight: bold; text-align: right;\">Row</th><th style = \"text-align: left;\">nterms</th><th style = \"text-align: left;\">total</th><th style = \"text-align: left;\">estimation</th></tr><tr class = \"subheader headerLastRow\"><th class = \"rowNumber\" style = \"font-weight: bold; text-align: right;\"></th><th title = \"String\" style = \"text-align: left;\">String</th><th title = \"Float64\" style = \"text-align: left;\">Float64</th><th title = \"Float64\" style = \"text-align: left;\">Float64</th></tr></thead><tbody><tr><td class = \"rowNumber\" style = \"font-weight: bold; text-align: right;\">1</td><td style = \"text-align: left;\">1.5^3</td><td style = \"text-align: right;\">0.0136</td><td style = \"text-align: right;\">0.0263879</td></tr><tr><td class = \"rowNumber\" style = \"font-weight: bold; text-align: right;\">2</td><td style = \"text-align: left;\">1.5^4</td><td style = \"text-align: right;\">0.0238</td><td style = \"text-align: right;\">0.030473</td></tr><tr><td class = \"rowNumber\" style = \"font-weight: bold; text-align: right;\">3</td><td style = \"text-align: left;\">1.5^5</td><td style = \"text-align: right;\">0.049</td><td style = \"text-align: right;\">0.0496674</td></tr><tr><td class = \"rowNumber\" style = \"font-weight: bold; text-align: right;\">4</td><td style = \"text-align: left;\">1.5^6</td><td style = \"text-align: right;\">0.0654</td><td style = \"text-align: right;\">0.086937</td></tr><tr><td class = \"rowNumber\" style = \"font-weight: bold; text-align: right;\">5</td><td style = \"text-align: left;\">1.5^7</td><td style = \"text-align: right;\">0.1278</td><td style = \"text-align: right;\">0.145519</td></tr><tr><td class = \"rowNumber\" style = \"font-weight: bold; text-align: right;\">6</td><td style = \"text-align: left;\">1.5^8</td><td style = \"text-align: right;\">0.2354</td><td style = \"text-align: right;\">0.228996</td></tr><tr><td class = \"rowNumber\" style = \"font-weight: bold; text-align: right;\">7</td><td style = \"text-align: left;\">1.5^9</td><td style = \"text-align: right;\">0.3236</td><td style = \"text-align: right;\">0.341639</td></tr><tr><td class = \"rowNumber\" style = \"font-weight: bold; text-align: right;\">8</td><td style = \"text-align: left;\">1.5^10</td><td style = \"text-align: right;\">0.4807</td><td style = \"text-align: right;\">0.489423</td></tr></tbody></table></div>"
      ],
      "text/latex": [
       "\\begin{tabular}{r|ccc}\n",
       "\t& nterms & total & estimation\\\\\n",
       "\t\\hline\n",
       "\t& String & Float64 & Float64\\\\\n",
       "\t\\hline\n",
       "\t1 & 1.5\\^3 & 0.0136 & 0.0263879 \\\\\n",
       "\t2 & 1.5\\^4 & 0.0238 & 0.030473 \\\\\n",
       "\t3 & 1.5\\^5 & 0.049 & 0.0496674 \\\\\n",
       "\t4 & 1.5\\^6 & 0.0654 & 0.086937 \\\\\n",
       "\t5 & 1.5\\^7 & 0.1278 & 0.145519 \\\\\n",
       "\t6 & 1.5\\^8 & 0.2354 & 0.228996 \\\\\n",
       "\t7 & 1.5\\^9 & 0.3236 & 0.341639 \\\\\n",
       "\t8 & 1.5\\^10 & 0.4807 & 0.489423 \\\\\n",
       "\\end{tabular}\n"
      ],
      "text/plain": [
       "\u001b[1m8×3 DataFrame\u001b[0m\n",
       "\u001b[1m Row \u001b[0m│\u001b[1m nterms \u001b[0m\u001b[1m total   \u001b[0m\u001b[1m estimation \u001b[0m\n",
       "     │\u001b[90m String \u001b[0m\u001b[90m Float64 \u001b[0m\u001b[90m Float64    \u001b[0m\n",
       "─────┼─────────────────────────────\n",
       "   1 │ 1.5^3    0.0136   0.0263879\n",
       "   2 │ 1.5^4    0.0238   0.030473\n",
       "   3 │ 1.5^5    0.049    0.0496674\n",
       "   4 │ 1.5^6    0.0654   0.086937\n",
       "   5 │ 1.5^7    0.1278   0.145519\n",
       "   6 │ 1.5^8    0.2354   0.228996\n",
       "   7 │ 1.5^9    0.3236   0.341639\n",
       "   8 │ 1.5^10   0.4807   0.489423"
      ]
     },
     "execution_count": 46,
     "metadata": {},
     "output_type": "execute_result"
    }
   ],
   "source": [
    "df_zp2 = DataFrame(\n",
    "    nterms=[\"$_base^$i\" for i in range_zp], \n",
    "    total=times_zp.total - times_zp.evaluate,\n",
    "    estimation=[f(n) for n in _base .^ range_zp],\n",
    ")\n",
    "df_zp2"
   ]
  },
  {
   "attachments": {},
   "cell_type": "markdown",
   "metadata": {},
   "source": [
    "Assessing the estimation for the inputs with higher number of terms"
   ]
  },
  {
   "cell_type": "code",
   "execution_count": 47,
   "metadata": {},
   "outputs": [
    {
     "data": {
      "text/plain": [
       "(total = [0.0271, 0.0603, 0.0505, 0.1239, 0.1479, 0.3785, 0.5367, 0.7368, 1.2574, 2.2437, 4.1086, 7.6181], cauchy = [0.0147, 0.0292, 0.0263, 0.0672, 0.0786, 0.2131, 0.274, 0.3715, 0.596, 1.0977, 1.6974, 2.6469], pointsmanip = [0.0014, 0.0025, 0.0026, 0.0049, 0.0065, 0.0106, 0.0163, 0.0209, 0.0314, 0.0473, 0.0741, 0.1199], evaluate = [0.0091, 0.0212, 0.0216, 0.0536, 0.0682, 0.1958, 0.2173, 0.3457, 0.6443, 1.1312, 2.2951, 5.0488], benortiwari = [0.0004, 0.0007, 0.001, 0.0013, 0.0019, 0.0037, 0.0061, 0.0098, 0.0137, 0.0276, 0.0552, 0.1098])"
      ]
     },
     "execution_count": 47,
     "metadata": {},
     "output_type": "execute_result"
    }
   ],
   "source": [
    "range_zp_2 = 3:14\n",
    "times_zp_2 = benchmark_vdhl_nterms(R_zp, range_zp_2)"
   ]
  },
  {
   "cell_type": "code",
   "execution_count": 48,
   "metadata": {},
   "outputs": [
    {
     "data": {
      "image/svg+xml": "<?xml version=\"1.0\" encoding=\"utf-8\"?>\n<svg xmlns=\"http://www.w3.org/2000/svg\" xmlns:xlink=\"http://www.w3.org/1999/xlink\" width=\"600\" height=\"400\" viewBox=\"0 0 2400 1600\">\n<defs>\n  <clipPath id=\"clip820\">\n    <rect x=\"0\" y=\"0\" width=\"2400\" height=\"1600\"/>\n  </clipPath>\n</defs>\n<path clip-path=\"url(#clip820)\" d=\"\nM0 1600 L2400 1600 L2400 0 L0 0  Z\n  \" fill=\"#ffffff\" fill-rule=\"evenodd\" fill-opacity=\"1\"/>\n<defs>\n  <clipPath id=\"clip821\">\n    <rect x=\"480\" y=\"0\" width=\"1681\" height=\"1600\"/>\n  </clipPath>\n</defs>\n<path clip-path=\"url(#clip820)\" d=\"\nM219.38 1423.18 L2352.76 1423.18 L2352.76 47.2441 L219.38 47.2441  Z\n  \" fill=\"#ffffff\" fill-rule=\"evenodd\" fill-opacity=\"1\"/>\n<defs>\n  <clipPath id=\"clip822\">\n    <rect x=\"219\" y=\"47\" width=\"2134\" height=\"1377\"/>\n  </clipPath>\n</defs>\n<polyline clip-path=\"url(#clip822)\" style=\"stroke:#000000; stroke-linecap:round; stroke-linejoin:round; stroke-width:2; stroke-opacity:0.1; fill:none\" points=\"\n  554.207,1423.18 554.207,47.2441 \n  \"/>\n<polyline clip-path=\"url(#clip822)\" style=\"stroke:#000000; stroke-linecap:round; stroke-linejoin:round; stroke-width:2; stroke-opacity:0.1; fill:none\" points=\"\n  1011.62,1423.18 1011.62,47.2441 \n  \"/>\n<polyline clip-path=\"url(#clip822)\" style=\"stroke:#000000; stroke-linecap:round; stroke-linejoin:round; stroke-width:2; stroke-opacity:0.1; fill:none\" points=\"\n  1469.03,1423.18 1469.03,47.2441 \n  \"/>\n<polyline clip-path=\"url(#clip822)\" style=\"stroke:#000000; stroke-linecap:round; stroke-linejoin:round; stroke-width:2; stroke-opacity:0.1; fill:none\" points=\"\n  1926.45,1423.18 1926.45,47.2441 \n  \"/>\n<polyline clip-path=\"url(#clip820)\" style=\"stroke:#000000; stroke-linecap:round; stroke-linejoin:round; stroke-width:4; stroke-opacity:1; fill:none\" points=\"\n  219.38,1423.18 2352.76,1423.18 \n  \"/>\n<polyline clip-path=\"url(#clip820)\" style=\"stroke:#000000; stroke-linecap:round; stroke-linejoin:round; stroke-width:4; stroke-opacity:1; fill:none\" points=\"\n  554.207,1423.18 554.207,1404.28 \n  \"/>\n<polyline clip-path=\"url(#clip820)\" style=\"stroke:#000000; stroke-linecap:round; stroke-linejoin:round; stroke-width:4; stroke-opacity:1; fill:none\" points=\"\n  1011.62,1423.18 1011.62,1404.28 \n  \"/>\n<polyline clip-path=\"url(#clip820)\" style=\"stroke:#000000; stroke-linecap:round; stroke-linejoin:round; stroke-width:4; stroke-opacity:1; fill:none\" points=\"\n  1469.03,1423.18 1469.03,1404.28 \n  \"/>\n<polyline clip-path=\"url(#clip820)\" style=\"stroke:#000000; stroke-linecap:round; stroke-linejoin:round; stroke-width:4; stroke-opacity:1; fill:none\" points=\"\n  1926.45,1423.18 1926.45,1404.28 \n  \"/>\n<path clip-path=\"url(#clip820)\" d=\"M525.943 1481.64 L542.262 1481.64 L542.262 1485.58 L520.318 1485.58 L520.318 1481.64 Q522.98 1478.89 527.563 1474.26 Q532.17 1469.61 533.35 1468.27 Q535.596 1465.74 536.475 1464.01 Q537.378 1462.25 537.378 1460.56 Q537.378 1457.8 535.434 1456.07 Q533.512 1454.33 530.411 1454.33 Q528.211 1454.33 525.758 1455.09 Q523.327 1455.86 520.549 1457.41 L520.549 1452.69 Q523.374 1451.55 525.827 1450.97 Q528.281 1450.39 530.318 1450.39 Q535.688 1450.39 538.883 1453.08 Q542.077 1455.77 542.077 1460.26 Q542.077 1462.39 541.267 1464.31 Q540.48 1466.2 538.373 1468.8 Q537.795 1469.47 534.693 1472.69 Q531.591 1475.88 525.943 1481.64 Z\" fill=\"#000000\" fill-rule=\"evenodd\" fill-opacity=\"1\" /><path clip-path=\"url(#clip820)\" d=\"M552.077 1479.7 L556.961 1479.7 L556.961 1485.58 L552.077 1485.58 L552.077 1479.7 Z\" fill=\"#000000\" fill-rule=\"evenodd\" fill-opacity=\"1\" /><path clip-path=\"url(#clip820)\" d=\"M567.193 1451.02 L585.549 1451.02 L585.549 1454.96 L571.475 1454.96 L571.475 1463.43 Q572.494 1463.08 573.512 1462.92 Q574.531 1462.73 575.549 1462.73 Q581.336 1462.73 584.716 1465.9 Q588.095 1469.08 588.095 1474.49 Q588.095 1480.07 584.623 1483.17 Q581.151 1486.25 574.832 1486.25 Q572.656 1486.25 570.387 1485.88 Q568.142 1485.51 565.734 1484.77 L565.734 1480.07 Q567.818 1481.2 570.04 1481.76 Q572.262 1482.32 574.739 1482.32 Q578.744 1482.32 581.082 1480.21 Q583.42 1478.1 583.42 1474.49 Q583.42 1470.88 581.082 1468.77 Q578.744 1466.67 574.739 1466.67 Q572.864 1466.67 570.989 1467.08 Q569.137 1467.5 567.193 1468.38 L567.193 1451.02 Z\" fill=\"#000000\" fill-rule=\"evenodd\" fill-opacity=\"1\" /><path clip-path=\"url(#clip820)\" d=\"M978.785 1451.02 L997.141 1451.02 L997.141 1454.96 L983.067 1454.96 L983.067 1463.43 Q984.085 1463.08 985.104 1462.92 Q986.122 1462.73 987.141 1462.73 Q992.928 1462.73 996.308 1465.9 Q999.687 1469.08 999.687 1474.49 Q999.687 1480.07 996.215 1483.17 Q992.743 1486.25 986.423 1486.25 Q984.247 1486.25 981.979 1485.88 Q979.734 1485.51 977.326 1484.77 L977.326 1480.07 Q979.41 1481.2 981.632 1481.76 Q983.854 1482.32 986.331 1482.32 Q990.335 1482.32 992.673 1480.21 Q995.011 1478.1 995.011 1474.49 Q995.011 1470.88 992.673 1468.77 Q990.335 1466.67 986.331 1466.67 Q984.456 1466.67 982.581 1467.08 Q980.729 1467.5 978.785 1468.38 L978.785 1451.02 Z\" fill=\"#000000\" fill-rule=\"evenodd\" fill-opacity=\"1\" /><path clip-path=\"url(#clip820)\" d=\"M1008.9 1479.7 L1013.78 1479.7 L1013.78 1485.58 L1008.9 1485.58 L1008.9 1479.7 Z\" fill=\"#000000\" fill-rule=\"evenodd\" fill-opacity=\"1\" /><path clip-path=\"url(#clip820)\" d=\"M1033.97 1454.1 Q1030.36 1454.1 1028.53 1457.66 Q1026.72 1461.2 1026.72 1468.33 Q1026.72 1475.44 1028.53 1479.01 Q1030.36 1482.55 1033.97 1482.55 Q1037.6 1482.55 1039.41 1479.01 Q1041.24 1475.44 1041.24 1468.33 Q1041.24 1461.2 1039.41 1457.66 Q1037.6 1454.1 1033.97 1454.1 M1033.97 1450.39 Q1039.78 1450.39 1042.84 1455 Q1045.91 1459.58 1045.91 1468.33 Q1045.91 1477.06 1042.84 1481.67 Q1039.78 1486.25 1033.97 1486.25 Q1028.16 1486.25 1025.08 1481.67 Q1022.03 1477.06 1022.03 1468.33 Q1022.03 1459.58 1025.08 1455 Q1028.16 1450.39 1033.97 1450.39 Z\" fill=\"#000000\" fill-rule=\"evenodd\" fill-opacity=\"1\" /><path clip-path=\"url(#clip820)\" d=\"M1435.35 1451.02 L1457.58 1451.02 L1457.58 1453.01 L1445.03 1485.58 L1440.14 1485.58 L1451.95 1454.96 L1435.35 1454.96 L1435.35 1451.02 Z\" fill=\"#000000\" fill-rule=\"evenodd\" fill-opacity=\"1\" /><path clip-path=\"url(#clip820)\" d=\"M1466.7 1479.7 L1471.58 1479.7 L1471.58 1485.58 L1466.7 1485.58 L1466.7 1479.7 Z\" fill=\"#000000\" fill-rule=\"evenodd\" fill-opacity=\"1\" /><path clip-path=\"url(#clip820)\" d=\"M1481.81 1451.02 L1500.17 1451.02 L1500.17 1454.96 L1486.09 1454.96 L1486.09 1463.43 Q1487.11 1463.08 1488.13 1462.92 Q1489.15 1462.73 1490.17 1462.73 Q1495.95 1462.73 1499.33 1465.9 Q1502.71 1469.08 1502.71 1474.49 Q1502.71 1480.07 1499.24 1483.17 Q1495.77 1486.25 1489.45 1486.25 Q1487.27 1486.25 1485.01 1485.88 Q1482.76 1485.51 1480.35 1484.77 L1480.35 1480.07 Q1482.44 1481.2 1484.66 1481.76 Q1486.88 1482.32 1489.36 1482.32 Q1493.36 1482.32 1495.7 1480.21 Q1498.04 1478.1 1498.04 1474.49 Q1498.04 1470.88 1495.7 1468.77 Q1493.36 1466.67 1489.36 1466.67 Q1487.48 1466.67 1485.61 1467.08 Q1483.76 1467.5 1481.81 1468.38 L1481.81 1451.02 Z\" fill=\"#000000\" fill-rule=\"evenodd\" fill-opacity=\"1\" /><path clip-path=\"url(#clip820)\" d=\"M1878.52 1481.64 L1886.16 1481.64 L1886.16 1455.28 L1877.85 1456.95 L1877.85 1452.69 L1886.11 1451.02 L1890.79 1451.02 L1890.79 1481.64 L1898.43 1481.64 L1898.43 1485.58 L1878.52 1485.58 L1878.52 1481.64 Z\" fill=\"#000000\" fill-rule=\"evenodd\" fill-opacity=\"1\" /><path clip-path=\"url(#clip820)\" d=\"M1917.87 1454.1 Q1914.26 1454.1 1912.43 1457.66 Q1910.63 1461.2 1910.63 1468.33 Q1910.63 1475.44 1912.43 1479.01 Q1914.26 1482.55 1917.87 1482.55 Q1921.5 1482.55 1923.31 1479.01 Q1925.14 1475.44 1925.14 1468.33 Q1925.14 1461.2 1923.31 1457.66 Q1921.5 1454.1 1917.87 1454.1 M1917.87 1450.39 Q1923.68 1450.39 1926.74 1455 Q1929.81 1459.58 1929.81 1468.33 Q1929.81 1477.06 1926.74 1481.67 Q1923.68 1486.25 1917.87 1486.25 Q1912.06 1486.25 1908.98 1481.67 Q1905.93 1477.06 1905.93 1468.33 Q1905.93 1459.58 1908.98 1455 Q1912.06 1450.39 1917.87 1450.39 Z\" fill=\"#000000\" fill-rule=\"evenodd\" fill-opacity=\"1\" /><path clip-path=\"url(#clip820)\" d=\"M1938.03 1479.7 L1942.92 1479.7 L1942.92 1485.58 L1938.03 1485.58 L1938.03 1479.7 Z\" fill=\"#000000\" fill-rule=\"evenodd\" fill-opacity=\"1\" /><path clip-path=\"url(#clip820)\" d=\"M1963.1 1454.1 Q1959.49 1454.1 1957.66 1457.66 Q1955.86 1461.2 1955.86 1468.33 Q1955.86 1475.44 1957.66 1479.01 Q1959.49 1482.55 1963.1 1482.55 Q1966.74 1482.55 1968.54 1479.01 Q1970.37 1475.44 1970.37 1468.33 Q1970.37 1461.2 1968.54 1457.66 Q1966.74 1454.1 1963.1 1454.1 M1963.1 1450.39 Q1968.91 1450.39 1971.97 1455 Q1975.05 1459.58 1975.05 1468.33 Q1975.05 1477.06 1971.97 1481.67 Q1968.91 1486.25 1963.1 1486.25 Q1957.29 1486.25 1954.21 1481.67 Q1951.16 1477.06 1951.16 1468.33 Q1951.16 1459.58 1954.21 1455 Q1957.29 1450.39 1963.1 1450.39 Z\" fill=\"#000000\" fill-rule=\"evenodd\" fill-opacity=\"1\" /><path clip-path=\"url(#clip820)\" d=\"M1095.13 1518.52 L1100.99 1518.52 L1100.99 1568.04 L1095.13 1568.04 L1095.13 1518.52 Z\" fill=\"#000000\" fill-rule=\"evenodd\" fill-opacity=\"1\" /><path clip-path=\"url(#clip820)\" d=\"M1127.05 1536.5 Q1122.34 1536.5 1119.6 1540.19 Q1116.87 1543.85 1116.87 1550.25 Q1116.87 1556.65 1119.57 1560.34 Q1122.31 1564 1127.05 1564 Q1131.73 1564 1134.47 1560.31 Q1137.21 1556.62 1137.21 1550.25 Q1137.21 1543.92 1134.47 1540.23 Q1131.73 1536.5 1127.05 1536.5 M1127.05 1531.54 Q1134.69 1531.54 1139.05 1536.5 Q1143.41 1541.47 1143.41 1550.25 Q1143.41 1559 1139.05 1564 Q1134.69 1568.97 1127.05 1568.97 Q1119.38 1568.97 1115.02 1564 Q1110.69 1559 1110.69 1550.25 Q1110.69 1541.47 1115.02 1536.5 Q1119.38 1531.54 1127.05 1531.54 Z\" fill=\"#000000\" fill-rule=\"evenodd\" fill-opacity=\"1\" /><path clip-path=\"url(#clip820)\" d=\"M1176.58 1549.81 Q1176.58 1543.44 1173.94 1539.94 Q1171.33 1536.44 1166.58 1536.44 Q1161.87 1536.44 1159.23 1539.94 Q1156.62 1543.44 1156.62 1549.81 Q1156.62 1556.14 1159.23 1559.64 Q1161.87 1563.14 1166.58 1563.14 Q1171.33 1563.14 1173.94 1559.64 Q1176.58 1556.14 1176.58 1549.81 M1182.43 1563.62 Q1182.43 1572.72 1178.39 1577.15 Q1174.35 1581.6 1166.01 1581.6 Q1162.92 1581.6 1160.19 1581.13 Q1157.45 1580.68 1154.87 1579.72 L1154.87 1574.03 Q1157.45 1575.43 1159.96 1576.1 Q1162.48 1576.76 1165.09 1576.76 Q1170.85 1576.76 1173.71 1573.74 Q1176.58 1570.75 1176.58 1564.67 L1176.58 1561.77 Q1174.76 1564.92 1171.93 1566.48 Q1169.1 1568.04 1165.15 1568.04 Q1158.59 1568.04 1154.58 1563.05 Q1150.57 1558.05 1150.57 1549.81 Q1150.57 1541.53 1154.58 1536.53 Q1158.59 1531.54 1165.15 1531.54 Q1169.1 1531.54 1171.93 1533.1 Q1174.76 1534.66 1176.58 1537.81 L1176.58 1532.4 L1182.43 1532.4 L1182.43 1563.62 Z\" fill=\"#000000\" fill-rule=\"evenodd\" fill-opacity=\"1\" /><path clip-path=\"url(#clip820)\" d=\"M1208.57 1518.58 Q1204.3 1525.9 1202.23 1533.06 Q1200.16 1540.23 1200.16 1547.58 Q1200.16 1554.93 1202.23 1562.16 Q1204.33 1569.35 1208.57 1576.64 L1203.47 1576.64 Q1198.7 1569.16 1196.31 1561.93 Q1193.96 1554.71 1193.96 1547.58 Q1193.96 1540.48 1196.31 1533.29 Q1198.67 1526.09 1203.47 1518.58 L1208.57 1518.58 Z\" fill=\"#000000\" fill-rule=\"evenodd\" fill-opacity=\"1\" /><path clip-path=\"url(#clip820)\" d=\"M1247.11 1539.37 L1237.85 1539.37 L1235.17 1550 L1244.5 1550 L1247.11 1539.37 M1242.34 1521.26 L1239.03 1534.46 L1248.32 1534.46 L1251.66 1521.26 L1256.75 1521.26 L1253.48 1534.46 L1263.41 1534.46 L1263.41 1539.37 L1252.23 1539.37 L1249.62 1550 L1259.75 1550 L1259.75 1554.87 L1248.38 1554.87 L1245.07 1568.04 L1239.98 1568.04 L1243.26 1554.87 L1233.93 1554.87 L1230.65 1568.04 L1225.53 1568.04 L1228.84 1554.87 L1218.81 1554.87 L1218.81 1550 L1230.02 1550 L1232.69 1539.37 L1222.44 1539.37 L1222.44 1534.46 L1233.93 1534.46 L1237.18 1521.26 L1242.34 1521.26 Z\" fill=\"#000000\" fill-rule=\"evenodd\" fill-opacity=\"1\" /><path clip-path=\"url(#clip820)\" d=\"M1280.34 1522.27 L1280.34 1532.4 L1292.4 1532.4 L1292.4 1536.95 L1280.34 1536.95 L1280.34 1556.3 Q1280.34 1560.66 1281.52 1561.9 Q1282.73 1563.14 1286.39 1563.14 L1292.4 1563.14 L1292.4 1568.04 L1286.39 1568.04 Q1279.61 1568.04 1277.03 1565.53 Q1274.45 1562.98 1274.45 1556.3 L1274.45 1536.95 L1270.15 1536.95 L1270.15 1532.4 L1274.45 1532.4 L1274.45 1522.27 L1280.34 1522.27 Z\" fill=\"#000000\" fill-rule=\"evenodd\" fill-opacity=\"1\" /><path clip-path=\"url(#clip820)\" d=\"M1330.6 1548.76 L1330.6 1551.62 L1303.67 1551.62 Q1304.05 1557.67 1307.3 1560.85 Q1310.58 1564 1316.4 1564 Q1319.77 1564 1322.93 1563.17 Q1326.11 1562.35 1329.23 1560.69 L1329.23 1566.23 Q1326.08 1567.57 1322.77 1568.27 Q1319.46 1568.97 1316.05 1568.97 Q1307.52 1568.97 1302.52 1564 Q1297.56 1559.04 1297.56 1550.57 Q1297.56 1541.82 1302.27 1536.69 Q1307.01 1531.54 1315.03 1531.54 Q1322.23 1531.54 1326.39 1536.18 Q1330.6 1540.8 1330.6 1548.76 M1324.74 1547.04 Q1324.68 1542.23 1322.03 1539.37 Q1319.42 1536.5 1315.1 1536.5 Q1310.19 1536.5 1307.23 1539.27 Q1304.31 1542.04 1303.86 1547.07 L1324.74 1547.04 Z\" fill=\"#000000\" fill-rule=\"evenodd\" fill-opacity=\"1\" /><path clip-path=\"url(#clip820)\" d=\"M1360.87 1537.87 Q1359.88 1537.3 1358.7 1537.04 Q1357.55 1536.76 1356.15 1536.76 Q1351.19 1536.76 1348.52 1540 Q1345.87 1543.22 1345.87 1549.27 L1345.87 1568.04 L1339.99 1568.04 L1339.99 1532.4 L1345.87 1532.4 L1345.87 1537.93 Q1347.72 1534.69 1350.68 1533.13 Q1353.64 1531.54 1357.87 1531.54 Q1358.48 1531.54 1359.21 1531.63 Q1359.94 1531.7 1360.83 1531.85 L1360.87 1537.87 Z\" fill=\"#000000\" fill-rule=\"evenodd\" fill-opacity=\"1\" /><path clip-path=\"url(#clip820)\" d=\"M1393.62 1539.24 Q1395.81 1535.29 1398.87 1533.41 Q1401.92 1531.54 1406.06 1531.54 Q1411.63 1531.54 1414.66 1535.45 Q1417.68 1539.33 1417.68 1546.53 L1417.68 1568.04 L1411.79 1568.04 L1411.79 1546.72 Q1411.79 1541.59 1409.98 1539.11 Q1408.16 1536.63 1404.44 1536.63 Q1399.89 1536.63 1397.25 1539.65 Q1394.6 1542.68 1394.6 1547.9 L1394.6 1568.04 L1388.72 1568.04 L1388.72 1546.72 Q1388.72 1541.56 1386.9 1539.11 Q1385.09 1536.63 1381.3 1536.63 Q1376.81 1536.63 1374.17 1539.68 Q1371.53 1542.71 1371.53 1547.9 L1371.53 1568.04 L1365.64 1568.04 L1365.64 1532.4 L1371.53 1532.4 L1371.53 1537.93 Q1373.53 1534.66 1376.33 1533.1 Q1379.13 1531.54 1382.99 1531.54 Q1386.87 1531.54 1389.57 1533.51 Q1392.31 1535.48 1393.62 1539.24 Z\" fill=\"#000000\" fill-rule=\"evenodd\" fill-opacity=\"1\" /><path clip-path=\"url(#clip820)\" d=\"M1452.09 1533.45 L1452.09 1538.98 Q1449.6 1537.71 1446.93 1537.07 Q1444.26 1536.44 1441.39 1536.44 Q1437.03 1536.44 1434.83 1537.77 Q1432.67 1539.11 1432.67 1541.79 Q1432.67 1543.82 1434.23 1545 Q1435.79 1546.15 1440.5 1547.2 L1442.51 1547.64 Q1448.74 1548.98 1451.35 1551.43 Q1454 1553.85 1454 1558.21 Q1454 1563.17 1450.05 1566.07 Q1446.13 1568.97 1439.26 1568.97 Q1436.39 1568.97 1433.27 1568.39 Q1430.19 1567.85 1426.75 1566.74 L1426.75 1560.69 Q1430 1562.38 1433.15 1563.24 Q1436.3 1564.07 1439.39 1564.07 Q1443.52 1564.07 1445.75 1562.66 Q1447.98 1561.23 1447.98 1558.65 Q1447.98 1556.27 1446.36 1554.99 Q1444.77 1553.72 1439.32 1552.54 L1437.29 1552.07 Q1431.84 1550.92 1429.42 1548.56 Q1427 1546.18 1427 1542.04 Q1427 1537.01 1430.57 1534.27 Q1434.13 1531.54 1440.69 1531.54 Q1443.94 1531.54 1446.8 1532.01 Q1449.67 1532.49 1452.09 1533.45 Z\" fill=\"#000000\" fill-rule=\"evenodd\" fill-opacity=\"1\" /><path clip-path=\"url(#clip820)\" d=\"M1462.4 1518.58 L1467.49 1518.58 Q1472.26 1526.09 1474.62 1533.29 Q1477.01 1540.48 1477.01 1547.58 Q1477.01 1554.71 1474.62 1561.93 Q1472.26 1569.16 1467.49 1576.64 L1462.4 1576.64 Q1466.63 1569.35 1468.7 1562.16 Q1470.8 1554.93 1470.8 1547.58 Q1470.8 1540.23 1468.7 1533.06 Q1466.63 1525.9 1462.4 1518.58 Z\" fill=\"#000000\" fill-rule=\"evenodd\" fill-opacity=\"1\" /><polyline clip-path=\"url(#clip822)\" style=\"stroke:#000000; stroke-linecap:round; stroke-linejoin:round; stroke-width:2; stroke-opacity:0.1; fill:none\" points=\"\n  219.38,1393.4 2352.76,1393.4 \n  \"/>\n<polyline clip-path=\"url(#clip822)\" style=\"stroke:#000000; stroke-linecap:round; stroke-linejoin:round; stroke-width:2; stroke-opacity:0.1; fill:none\" points=\"\n  219.38,1139.01 2352.76,1139.01 \n  \"/>\n<polyline clip-path=\"url(#clip822)\" style=\"stroke:#000000; stroke-linecap:round; stroke-linejoin:round; stroke-width:2; stroke-opacity:0.1; fill:none\" points=\"\n  219.38,884.615 2352.76,884.615 \n  \"/>\n<polyline clip-path=\"url(#clip822)\" style=\"stroke:#000000; stroke-linecap:round; stroke-linejoin:round; stroke-width:2; stroke-opacity:0.1; fill:none\" points=\"\n  219.38,630.225 2352.76,630.225 \n  \"/>\n<polyline clip-path=\"url(#clip822)\" style=\"stroke:#000000; stroke-linecap:round; stroke-linejoin:round; stroke-width:2; stroke-opacity:0.1; fill:none\" points=\"\n  219.38,375.835 2352.76,375.835 \n  \"/>\n<polyline clip-path=\"url(#clip822)\" style=\"stroke:#000000; stroke-linecap:round; stroke-linejoin:round; stroke-width:2; stroke-opacity:0.1; fill:none\" points=\"\n  219.38,121.444 2352.76,121.444 \n  \"/>\n<polyline clip-path=\"url(#clip820)\" style=\"stroke:#000000; stroke-linecap:round; stroke-linejoin:round; stroke-width:4; stroke-opacity:1; fill:none\" points=\"\n  219.38,1423.18 219.38,47.2441 \n  \"/>\n<polyline clip-path=\"url(#clip820)\" style=\"stroke:#000000; stroke-linecap:round; stroke-linejoin:round; stroke-width:4; stroke-opacity:1; fill:none\" points=\"\n  219.38,1393.4 238.278,1393.4 \n  \"/>\n<polyline clip-path=\"url(#clip820)\" style=\"stroke:#000000; stroke-linecap:round; stroke-linejoin:round; stroke-width:4; stroke-opacity:1; fill:none\" points=\"\n  219.38,1139.01 238.278,1139.01 \n  \"/>\n<polyline clip-path=\"url(#clip820)\" style=\"stroke:#000000; stroke-linecap:round; stroke-linejoin:round; stroke-width:4; stroke-opacity:1; fill:none\" points=\"\n  219.38,884.615 238.278,884.615 \n  \"/>\n<polyline clip-path=\"url(#clip820)\" style=\"stroke:#000000; stroke-linecap:round; stroke-linejoin:round; stroke-width:4; stroke-opacity:1; fill:none\" points=\"\n  219.38,630.225 238.278,630.225 \n  \"/>\n<polyline clip-path=\"url(#clip820)\" style=\"stroke:#000000; stroke-linecap:round; stroke-linejoin:round; stroke-width:4; stroke-opacity:1; fill:none\" points=\"\n  219.38,375.835 238.278,375.835 \n  \"/>\n<polyline clip-path=\"url(#clip820)\" style=\"stroke:#000000; stroke-linecap:round; stroke-linejoin:round; stroke-width:4; stroke-opacity:1; fill:none\" points=\"\n  219.38,121.444 238.278,121.444 \n  \"/>\n<path clip-path=\"url(#clip820)\" d=\"M126.205 1379.2 Q122.593 1379.2 120.765 1382.76 Q118.959 1386.3 118.959 1393.43 Q118.959 1400.54 120.765 1404.1 Q122.593 1407.64 126.205 1407.64 Q129.839 1407.64 131.644 1404.1 Q133.473 1400.54 133.473 1393.43 Q133.473 1386.3 131.644 1382.76 Q129.839 1379.2 126.205 1379.2 M126.205 1375.49 Q132.015 1375.49 135.07 1380.1 Q138.149 1384.68 138.149 1393.43 Q138.149 1402.16 135.07 1406.76 Q132.015 1411.35 126.205 1411.35 Q120.394 1411.35 117.316 1406.76 Q114.26 1402.16 114.26 1393.43 Q114.26 1384.68 117.316 1380.1 Q120.394 1375.49 126.205 1375.49 Z\" fill=\"#000000\" fill-rule=\"evenodd\" fill-opacity=\"1\" /><path clip-path=\"url(#clip820)\" d=\"M146.366 1404.8 L151.251 1404.8 L151.251 1410.68 L146.366 1410.68 L146.366 1404.8 Z\" fill=\"#000000\" fill-rule=\"evenodd\" fill-opacity=\"1\" /><path clip-path=\"url(#clip820)\" d=\"M171.436 1379.2 Q167.825 1379.2 165.996 1382.76 Q164.19 1386.3 164.19 1393.43 Q164.19 1400.54 165.996 1404.1 Q167.825 1407.64 171.436 1407.64 Q175.07 1407.64 176.876 1404.1 Q178.704 1400.54 178.704 1393.43 Q178.704 1386.3 176.876 1382.76 Q175.07 1379.2 171.436 1379.2 M171.436 1375.49 Q177.246 1375.49 180.301 1380.1 Q183.38 1384.68 183.38 1393.43 Q183.38 1402.16 180.301 1406.76 Q177.246 1411.35 171.436 1411.35 Q165.626 1411.35 162.547 1406.76 Q159.491 1402.16 159.491 1393.43 Q159.491 1384.68 162.547 1380.1 Q165.626 1375.49 171.436 1375.49 Z\" fill=\"#000000\" fill-rule=\"evenodd\" fill-opacity=\"1\" /><path clip-path=\"url(#clip820)\" d=\"M127.2 1124.8 Q123.589 1124.8 121.76 1128.37 Q119.955 1131.91 119.955 1139.04 Q119.955 1146.15 121.76 1149.71 Q123.589 1153.25 127.2 1153.25 Q130.834 1153.25 132.64 1149.71 Q134.468 1146.15 134.468 1139.04 Q134.468 1131.91 132.64 1128.37 Q130.834 1124.8 127.2 1124.8 M127.2 1121.1 Q133.01 1121.1 136.066 1125.71 Q139.144 1130.29 139.144 1139.04 Q139.144 1147.77 136.066 1152.37 Q133.01 1156.96 127.2 1156.96 Q121.39 1156.96 118.311 1152.37 Q115.256 1147.77 115.256 1139.04 Q115.256 1130.29 118.311 1125.71 Q121.39 1121.1 127.2 1121.1 Z\" fill=\"#000000\" fill-rule=\"evenodd\" fill-opacity=\"1\" /><path clip-path=\"url(#clip820)\" d=\"M147.362 1150.41 L152.246 1150.41 L152.246 1156.29 L147.362 1156.29 L147.362 1150.41 Z\" fill=\"#000000\" fill-rule=\"evenodd\" fill-opacity=\"1\" /><path clip-path=\"url(#clip820)\" d=\"M162.477 1121.73 L180.834 1121.73 L180.834 1125.66 L166.76 1125.66 L166.76 1134.13 Q167.778 1133.79 168.797 1133.62 Q169.815 1133.44 170.834 1133.44 Q176.621 1133.44 180.001 1136.61 Q183.38 1139.78 183.38 1145.2 Q183.38 1150.78 179.908 1153.88 Q176.436 1156.96 170.116 1156.96 Q167.94 1156.96 165.672 1156.59 Q163.427 1156.22 161.019 1155.48 L161.019 1150.78 Q163.102 1151.91 165.325 1152.47 Q167.547 1153.02 170.024 1153.02 Q174.028 1153.02 176.366 1150.92 Q178.704 1148.81 178.704 1145.2 Q178.704 1141.59 176.366 1139.48 Q174.028 1137.37 170.024 1137.37 Q168.149 1137.37 166.274 1137.79 Q164.422 1138.21 162.477 1139.09 L162.477 1121.73 Z\" fill=\"#000000\" fill-rule=\"evenodd\" fill-opacity=\"1\" /><path clip-path=\"url(#clip820)\" d=\"M117.015 897.96 L124.654 897.96 L124.654 871.595 L116.343 873.261 L116.343 869.002 L124.607 867.335 L129.283 867.335 L129.283 897.96 L136.922 897.96 L136.922 901.895 L117.015 901.895 L117.015 897.96 Z\" fill=\"#000000\" fill-rule=\"evenodd\" fill-opacity=\"1\" /><path clip-path=\"url(#clip820)\" d=\"M146.366 896.016 L151.251 896.016 L151.251 901.895 L146.366 901.895 L146.366 896.016 Z\" fill=\"#000000\" fill-rule=\"evenodd\" fill-opacity=\"1\" /><path clip-path=\"url(#clip820)\" d=\"M171.436 870.414 Q167.825 870.414 165.996 873.979 Q164.19 877.521 164.19 884.65 Q164.19 891.757 165.996 895.321 Q167.825 898.863 171.436 898.863 Q175.07 898.863 176.876 895.321 Q178.704 891.757 178.704 884.65 Q178.704 877.521 176.876 873.979 Q175.07 870.414 171.436 870.414 M171.436 866.71 Q177.246 866.71 180.301 871.317 Q183.38 875.9 183.38 884.65 Q183.38 893.377 180.301 897.983 Q177.246 902.567 171.436 902.567 Q165.626 902.567 162.547 897.983 Q159.491 893.377 159.491 884.65 Q159.491 875.9 162.547 871.317 Q165.626 866.71 171.436 866.71 Z\" fill=\"#000000\" fill-rule=\"evenodd\" fill-opacity=\"1\" /><path clip-path=\"url(#clip820)\" d=\"M118.01 643.57 L125.649 643.57 L125.649 617.204 L117.339 618.871 L117.339 614.612 L125.603 612.945 L130.279 612.945 L130.279 643.57 L137.917 643.57 L137.917 647.505 L118.01 647.505 L118.01 643.57 Z\" fill=\"#000000\" fill-rule=\"evenodd\" fill-opacity=\"1\" /><path clip-path=\"url(#clip820)\" d=\"M147.362 641.625 L152.246 641.625 L152.246 647.505 L147.362 647.505 L147.362 641.625 Z\" fill=\"#000000\" fill-rule=\"evenodd\" fill-opacity=\"1\" /><path clip-path=\"url(#clip820)\" d=\"M162.477 612.945 L180.834 612.945 L180.834 616.88 L166.76 616.88 L166.76 625.352 Q167.778 625.005 168.797 624.843 Q169.815 624.658 170.834 624.658 Q176.621 624.658 180.001 627.829 Q183.38 631 183.38 636.417 Q183.38 641.996 179.908 645.098 Q176.436 648.176 170.116 648.176 Q167.94 648.176 165.672 647.806 Q163.427 647.436 161.019 646.695 L161.019 641.996 Q163.102 643.13 165.325 643.686 Q167.547 644.241 170.024 644.241 Q174.028 644.241 176.366 642.135 Q178.704 640.028 178.704 636.417 Q178.704 632.806 176.366 630.7 Q174.028 628.593 170.024 628.593 Q168.149 628.593 166.274 629.01 Q164.422 629.426 162.477 630.306 L162.477 612.945 Z\" fill=\"#000000\" fill-rule=\"evenodd\" fill-opacity=\"1\" /><path clip-path=\"url(#clip820)\" d=\"M120.232 389.179 L136.552 389.179 L136.552 393.115 L114.607 393.115 L114.607 389.179 Q117.269 386.425 121.853 381.795 Q126.459 377.142 127.64 375.8 Q129.885 373.277 130.765 371.541 Q131.667 369.781 131.667 368.092 Q131.667 365.337 129.723 363.601 Q127.802 361.865 124.7 361.865 Q122.501 361.865 120.047 362.629 Q117.617 363.393 114.839 364.943 L114.839 360.221 Q117.663 359.087 120.117 358.508 Q122.57 357.93 124.607 357.93 Q129.978 357.93 133.172 360.615 Q136.367 363.3 136.367 367.791 Q136.367 369.92 135.556 371.842 Q134.769 373.74 132.663 376.332 Q132.084 377.004 128.982 380.221 Q125.88 383.416 120.232 389.179 Z\" fill=\"#000000\" fill-rule=\"evenodd\" fill-opacity=\"1\" /><path clip-path=\"url(#clip820)\" d=\"M146.366 387.235 L151.251 387.235 L151.251 393.115 L146.366 393.115 L146.366 387.235 Z\" fill=\"#000000\" fill-rule=\"evenodd\" fill-opacity=\"1\" /><path clip-path=\"url(#clip820)\" d=\"M171.436 361.633 Q167.825 361.633 165.996 365.198 Q164.19 368.74 164.19 375.869 Q164.19 382.976 165.996 386.541 Q167.825 390.082 171.436 390.082 Q175.07 390.082 176.876 386.541 Q178.704 382.976 178.704 375.869 Q178.704 368.74 176.876 365.198 Q175.07 361.633 171.436 361.633 M171.436 357.93 Q177.246 357.93 180.301 362.536 Q183.38 367.119 183.38 375.869 Q183.38 384.596 180.301 389.203 Q177.246 393.786 171.436 393.786 Q165.626 393.786 162.547 389.203 Q159.491 384.596 159.491 375.869 Q159.491 367.119 162.547 362.536 Q165.626 357.93 171.436 357.93 Z\" fill=\"#000000\" fill-rule=\"evenodd\" fill-opacity=\"1\" /><path clip-path=\"url(#clip820)\" d=\"M121.228 134.789 L137.547 134.789 L137.547 138.724 L115.603 138.724 L115.603 134.789 Q118.265 132.034 122.848 127.405 Q127.455 122.752 128.635 121.409 Q130.88 118.886 131.76 117.15 Q132.663 115.391 132.663 113.701 Q132.663 110.947 130.718 109.21 Q128.797 107.474 125.695 107.474 Q123.496 107.474 121.043 108.238 Q118.612 109.002 115.834 110.553 L115.834 105.831 Q118.658 104.697 121.112 104.118 Q123.566 103.539 125.603 103.539 Q130.973 103.539 134.167 106.224 Q137.362 108.91 137.362 113.4 Q137.362 115.53 136.552 117.451 Q135.765 119.349 133.658 121.942 Q133.08 122.613 129.978 125.831 Q126.876 129.025 121.228 134.789 Z\" fill=\"#000000\" fill-rule=\"evenodd\" fill-opacity=\"1\" /><path clip-path=\"url(#clip820)\" d=\"M147.362 132.845 L152.246 132.845 L152.246 138.724 L147.362 138.724 L147.362 132.845 Z\" fill=\"#000000\" fill-rule=\"evenodd\" fill-opacity=\"1\" /><path clip-path=\"url(#clip820)\" d=\"M162.477 104.164 L180.834 104.164 L180.834 108.099 L166.76 108.099 L166.76 116.572 Q167.778 116.224 168.797 116.062 Q169.815 115.877 170.834 115.877 Q176.621 115.877 180.001 119.048 Q183.38 122.22 183.38 127.636 Q183.38 133.215 179.908 136.317 Q176.436 139.395 170.116 139.395 Q167.94 139.395 165.672 139.025 Q163.427 138.655 161.019 137.914 L161.019 133.215 Q163.102 134.349 165.325 134.905 Q167.547 135.46 170.024 135.46 Q174.028 135.46 176.366 133.354 Q178.704 131.247 178.704 127.636 Q178.704 124.025 176.366 121.919 Q174.028 119.812 170.024 119.812 Q168.149 119.812 166.274 120.229 Q164.422 120.646 162.477 121.525 L162.477 104.164 Z\" fill=\"#000000\" fill-rule=\"evenodd\" fill-opacity=\"1\" /><path clip-path=\"url(#clip820)\" d=\"M18.2347 847.758 L28.3562 847.758 L28.3562 835.695 L32.9077 835.695 L32.9077 847.758 L52.2594 847.758 Q56.6199 847.758 57.8613 846.58 Q59.1026 845.371 59.1026 841.71 L59.1026 835.695 L64.0042 835.695 L64.0042 841.71 Q64.0042 848.49 61.4897 851.068 Q58.9434 853.646 52.2594 853.646 L32.9077 853.646 L32.9077 857.943 L28.3562 857.943 L28.3562 853.646 L18.2347 853.646 L18.2347 847.758 Z\" fill=\"#000000\" fill-rule=\"evenodd\" fill-opacity=\"1\" /><path clip-path=\"url(#clip820)\" d=\"M28.3562 827.992 L28.3562 822.136 L64.0042 822.136 L64.0042 827.992 L28.3562 827.992 M14.479 827.992 L14.479 822.136 L21.895 822.136 L21.895 827.992 L14.479 827.992 Z\" fill=\"#000000\" fill-rule=\"evenodd\" fill-opacity=\"1\" /><path clip-path=\"url(#clip820)\" d=\"M35.1993 782.127 Q31.2526 779.931 29.3747 776.876 Q27.4968 773.82 27.4968 769.682 Q27.4968 764.112 31.4117 761.089 Q35.2948 758.065 42.4881 758.065 L64.0042 758.065 L64.0042 763.953 L42.679 763.953 Q37.5546 763.953 35.072 765.767 Q32.5894 767.582 32.5894 771.306 Q32.5894 775.857 35.6131 778.499 Q38.6368 781.141 43.8567 781.141 L64.0042 781.141 L64.0042 787.029 L42.679 787.029 Q37.5228 787.029 35.072 788.843 Q32.5894 790.657 32.5894 794.445 Q32.5894 798.933 35.6449 801.574 Q38.6686 804.216 43.8567 804.216 L64.0042 804.216 L64.0042 810.105 L28.3562 810.105 L28.3562 804.216 L33.8944 804.216 Q30.616 802.211 29.0564 799.41 Q27.4968 796.609 27.4968 792.758 Q27.4968 788.875 29.4702 786.169 Q31.4436 783.432 35.1993 782.127 Z\" fill=\"#000000\" fill-rule=\"evenodd\" fill-opacity=\"1\" /><path clip-path=\"url(#clip820)\" d=\"M44.7161 715.892 L47.5806 715.892 L47.5806 742.819 Q53.6281 742.437 56.8109 739.191 Q59.9619 735.912 59.9619 730.088 Q59.9619 726.714 59.1344 723.563 Q58.3069 720.38 56.6518 717.261 L62.1899 717.261 Q63.5267 720.412 64.227 723.722 Q64.9272 727.032 64.9272 730.438 Q64.9272 738.968 59.9619 743.965 Q54.9967 748.93 46.5303 748.93 Q37.7774 748.93 32.6531 744.219 Q27.4968 739.477 27.4968 731.456 Q27.4968 724.263 32.1438 720.093 Q36.7589 715.892 44.7161 715.892 M42.9973 721.748 Q38.1912 721.812 35.3266 724.454 Q32.4621 727.064 32.4621 731.393 Q32.4621 736.294 35.2312 739.254 Q38.0002 742.182 43.0292 742.628 L42.9973 721.748 Z\" fill=\"#000000\" fill-rule=\"evenodd\" fill-opacity=\"1\" /><path clip-path=\"url(#clip820)\" d=\"M14.5426 671.491 Q21.8632 675.756 29.0246 677.825 Q36.186 679.894 43.5384 679.894 Q50.8908 679.894 58.1159 677.825 Q65.3091 675.724 72.5979 671.491 L72.5979 676.584 Q65.1182 681.358 57.8931 683.745 Q50.668 686.101 43.5384 686.101 Q36.4406 686.101 29.2474 683.745 Q22.0542 681.39 14.5426 676.584 L14.5426 671.491 Z\" fill=\"#000000\" fill-rule=\"evenodd\" fill-opacity=\"1\" /><path clip-path=\"url(#clip820)\" d=\"M29.4065 637.403 L34.9447 637.403 Q33.6716 639.886 33.035 642.559 Q32.3984 645.233 32.3984 648.097 Q32.3984 652.458 33.7352 654.654 Q35.072 656.818 37.7456 656.818 Q39.7826 656.818 40.9603 655.259 Q42.1061 653.699 43.1565 648.988 L43.6021 646.983 Q44.9389 640.745 47.3897 638.135 Q49.8086 635.493 54.1691 635.493 Q59.1344 635.493 62.0308 639.44 Q64.9272 643.355 64.9272 650.23 Q64.9272 653.094 64.3543 656.214 Q63.8132 659.301 62.6992 662.738 L56.6518 662.738 Q58.3387 659.492 59.198 656.341 Q60.0256 653.19 60.0256 650.102 Q60.0256 645.965 58.6251 643.737 Q57.1929 641.509 54.6147 641.509 Q52.2276 641.509 50.9545 643.132 Q49.6813 644.723 48.5037 650.166 L48.0262 652.203 Q46.8804 657.646 44.5251 660.065 Q42.138 662.484 38.0002 662.484 Q32.9713 662.484 30.2341 658.919 Q27.4968 655.354 27.4968 648.798 Q27.4968 645.551 27.9743 642.686 Q28.4517 639.822 29.4065 637.403 Z\" fill=\"#000000\" fill-rule=\"evenodd\" fill-opacity=\"1\" /><path clip-path=\"url(#clip820)\" d=\"M14.5426 627.09 L14.5426 621.998 Q22.0542 617.224 29.2474 614.868 Q36.4406 612.481 43.5384 612.481 Q50.668 612.481 57.8931 614.868 Q65.1182 617.224 72.5979 621.998 L72.5979 627.09 Q65.3091 622.857 58.1159 620.788 Q50.8908 618.688 43.5384 618.688 Q36.186 618.688 29.0246 620.788 Q21.8632 622.857 14.5426 627.09 Z\" fill=\"#000000\" fill-rule=\"evenodd\" fill-opacity=\"1\" /><polyline clip-path=\"url(#clip822)\" style=\"stroke:#009af9; stroke-linecap:round; stroke-linejoin:round; stroke-width:8; stroke-opacity:1; fill:none\" points=\"\n  279.759,1384.24 462.724,1373.5 645.689,1378.69 828.655,1357.63 1011.62,1352.85 1194.59,1300.44 1377.55,1230.89 1560.52,1194.41 1743.48,1081.46 1926.45,827.378 \n  2109.41,470.722 2292.38,86.1857 \n  \"/>\n<polyline clip-path=\"url(#clip822)\" style=\"stroke:#e26f46; stroke-linecap:round; stroke-linejoin:round; stroke-width:8; stroke-opacity:1; fill:none\" points=\"\n  279.759,1379.97 462.724,1377.89 645.689,1368.13 828.655,1349.16 1011.62,1319.36 1194.59,1276.89 1377.55,1219.58 1560.52,1144.39 1743.48,1046.16 1926.45,914.851 \n  2109.41,729.877 2292.38,448.909 \n  \"/>\n<polyline clip-path=\"url(#clip822)\" style=\"stroke:#3da44d; stroke-linecap:round; stroke-linejoin:round; stroke-width:8; stroke-opacity:1; fill:none\" points=\"\n  1926.45,2799.12 1926.45,-1328.69 \n  \"/>\n<path clip-path=\"url(#clip820)\" d=\"\nM290.493 300.469 L833.574 300.469 L833.574 93.1086 L290.493 93.1086  Z\n  \" fill=\"#ffffff\" fill-rule=\"evenodd\" fill-opacity=\"1\"/>\n<polyline clip-path=\"url(#clip820)\" style=\"stroke:#000000; stroke-linecap:round; stroke-linejoin:round; stroke-width:4; stroke-opacity:1; fill:none\" points=\"\n  290.493,300.469 833.574,300.469 833.574,93.1086 290.493,93.1086 290.493,300.469 \n  \"/>\n<polyline clip-path=\"url(#clip820)\" style=\"stroke:#009af9; stroke-linecap:round; stroke-linejoin:round; stroke-width:8; stroke-opacity:1; fill:none\" points=\"\n  314.197,144.949 456.422,144.949 \n  \"/>\n<path clip-path=\"url(#clip820)\" d=\"M499.038 140.238 L499.038 126.21 L503.297 126.21 L503.297 162.229 L499.038 162.229 L499.038 158.34 Q497.695 160.655 495.635 161.789 Q493.598 162.9 490.728 162.9 Q486.029 162.9 483.066 159.15 Q480.126 155.4 480.126 149.289 Q480.126 143.178 483.066 139.428 Q486.029 135.678 490.728 135.678 Q493.598 135.678 495.635 136.812 Q497.695 137.923 499.038 140.238 M484.524 149.289 Q484.524 153.988 486.445 156.673 Q488.39 159.335 491.77 159.335 Q495.149 159.335 497.094 156.673 Q499.038 153.988 499.038 149.289 Q499.038 144.59 497.094 141.928 Q495.149 139.243 491.77 139.243 Q488.39 139.243 486.445 141.928 Q484.524 144.59 484.524 149.289 Z\" fill=\"#000000\" fill-rule=\"evenodd\" fill-opacity=\"1\" /><path clip-path=\"url(#clip820)\" d=\"M523.853 149.196 Q518.691 149.196 516.7 150.377 Q514.709 151.557 514.709 154.405 Q514.709 156.673 516.191 158.016 Q517.695 159.335 520.265 159.335 Q523.806 159.335 525.936 156.835 Q528.089 154.312 528.089 150.145 L528.089 149.196 L523.853 149.196 M532.348 147.437 L532.348 162.229 L528.089 162.229 L528.089 158.293 Q526.63 160.655 524.455 161.789 Q522.279 162.9 519.131 162.9 Q515.149 162.9 512.788 160.678 Q510.45 158.432 510.45 154.682 Q510.45 150.307 513.367 148.085 Q516.306 145.863 522.117 145.863 L528.089 145.863 L528.089 145.446 Q528.089 142.507 526.144 140.909 Q524.223 139.289 520.728 139.289 Q518.506 139.289 516.399 139.821 Q514.293 140.354 512.348 141.419 L512.348 137.483 Q514.686 136.581 516.885 136.141 Q519.084 135.678 521.168 135.678 Q526.792 135.678 529.57 138.594 Q532.348 141.511 532.348 147.437 Z\" fill=\"#000000\" fill-rule=\"evenodd\" fill-opacity=\"1\" /><path clip-path=\"url(#clip820)\" d=\"M545.334 128.942 L545.334 136.303 L554.107 136.303 L554.107 139.613 L545.334 139.613 L545.334 153.687 Q545.334 156.858 546.191 157.761 Q547.07 158.664 549.732 158.664 L554.107 158.664 L554.107 162.229 L549.732 162.229 Q544.802 162.229 542.927 160.4 Q541.052 158.548 541.052 153.687 L541.052 139.613 L537.927 139.613 L537.927 136.303 L541.052 136.303 L541.052 128.942 L545.334 128.942 Z\" fill=\"#000000\" fill-rule=\"evenodd\" fill-opacity=\"1\" /><path clip-path=\"url(#clip820)\" d=\"M571.491 149.196 Q566.329 149.196 564.339 150.377 Q562.348 151.557 562.348 154.405 Q562.348 156.673 563.829 158.016 Q565.334 159.335 567.903 159.335 Q571.445 159.335 573.575 156.835 Q575.727 154.312 575.727 150.145 L575.727 149.196 L571.491 149.196 M579.987 147.437 L579.987 162.229 L575.727 162.229 L575.727 158.293 Q574.269 160.655 572.093 161.789 Q569.917 162.9 566.769 162.9 Q562.788 162.9 560.427 160.678 Q558.089 158.432 558.089 154.682 Q558.089 150.307 561.005 148.085 Q563.945 145.863 569.755 145.863 L575.727 145.863 L575.727 145.446 Q575.727 142.507 573.783 140.909 Q571.862 139.289 568.366 139.289 Q566.144 139.289 564.038 139.821 Q561.931 140.354 559.987 141.419 L559.987 137.483 Q562.325 136.581 564.524 136.141 Q566.723 135.678 568.806 135.678 Q574.431 135.678 577.209 138.594 Q579.987 141.511 579.987 147.437 Z\" fill=\"#000000\" fill-rule=\"evenodd\" fill-opacity=\"1\" /><polyline clip-path=\"url(#clip820)\" style=\"stroke:#e26f46; stroke-linecap:round; stroke-linejoin:round; stroke-width:8; stroke-opacity:1; fill:none\" points=\"\n  314.197,196.789 456.422,196.789 \n  \"/>\n<path clip-path=\"url(#clip820)\" d=\"M504.154 200.041 L504.154 202.124 L484.571 202.124 Q484.848 206.522 487.209 208.837 Q489.594 211.129 493.83 211.129 Q496.283 211.129 498.575 210.527 Q500.89 209.925 503.158 208.721 L503.158 212.749 Q500.867 213.721 498.459 214.231 Q496.052 214.74 493.575 214.74 Q487.371 214.74 483.737 211.129 Q480.126 207.518 480.126 201.36 Q480.126 194.995 483.552 191.268 Q487.001 187.518 492.834 187.518 Q498.066 187.518 501.098 190.897 Q504.154 194.254 504.154 200.041 M499.894 198.791 Q499.848 195.296 497.927 193.212 Q496.029 191.129 492.881 191.129 Q489.316 191.129 487.163 193.143 Q485.033 195.157 484.709 198.814 L499.894 198.791 Z\" fill=\"#000000\" fill-rule=\"evenodd\" fill-opacity=\"1\" /><path clip-path=\"url(#clip820)\" d=\"M527.672 188.907 L527.672 192.934 Q525.867 192.009 523.922 191.546 Q521.978 191.083 519.894 191.083 Q516.723 191.083 515.126 192.055 Q513.552 193.027 513.552 194.971 Q513.552 196.453 514.686 197.309 Q515.82 198.143 519.246 198.907 L520.705 199.231 Q525.242 200.203 527.14 201.985 Q529.061 203.745 529.061 206.916 Q529.061 210.527 526.191 212.633 Q523.343 214.74 518.343 214.74 Q516.26 214.74 513.992 214.323 Q511.746 213.93 509.246 213.12 L509.246 208.721 Q511.607 209.948 513.899 210.573 Q516.191 211.175 518.436 211.175 Q521.445 211.175 523.066 210.157 Q524.686 209.115 524.686 207.24 Q524.686 205.504 523.505 204.578 Q522.348 203.652 518.39 202.796 L516.908 202.448 Q512.95 201.615 511.191 199.902 Q509.431 198.166 509.431 195.157 Q509.431 191.499 512.024 189.509 Q514.617 187.518 519.385 187.518 Q521.746 187.518 523.83 187.865 Q525.913 188.212 527.672 188.907 Z\" fill=\"#000000\" fill-rule=\"evenodd\" fill-opacity=\"1\" /><path clip-path=\"url(#clip820)\" d=\"M540.056 180.782 L540.056 188.143 L548.829 188.143 L548.829 191.453 L540.056 191.453 L540.056 205.527 Q540.056 208.698 540.913 209.601 Q541.792 210.504 544.454 210.504 L548.829 210.504 L548.829 214.069 L544.454 214.069 Q539.524 214.069 537.649 212.24 Q535.774 210.388 535.774 205.527 L535.774 191.453 L532.649 191.453 L532.649 188.143 L535.774 188.143 L535.774 180.782 L540.056 180.782 Z\" fill=\"#000000\" fill-rule=\"evenodd\" fill-opacity=\"1\" /><path clip-path=\"url(#clip820)\" d=\"M554.431 188.143 L558.69 188.143 L558.69 214.069 L554.431 214.069 L554.431 188.143 M554.431 178.05 L558.69 178.05 L558.69 183.444 L554.431 183.444 L554.431 178.05 Z\" fill=\"#000000\" fill-rule=\"evenodd\" fill-opacity=\"1\" /><path clip-path=\"url(#clip820)\" d=\"M587.788 193.12 Q589.385 190.249 591.607 188.884 Q593.829 187.518 596.838 187.518 Q600.889 187.518 603.088 190.365 Q605.287 193.189 605.287 198.421 L605.287 214.069 L601.005 214.069 L601.005 198.559 Q601.005 194.833 599.686 193.027 Q598.366 191.222 595.658 191.222 Q592.348 191.222 590.426 193.421 Q588.505 195.62 588.505 199.416 L588.505 214.069 L584.223 214.069 L584.223 198.559 Q584.223 194.809 582.903 193.027 Q581.584 191.222 578.829 191.222 Q575.565 191.222 573.644 193.444 Q571.723 195.643 571.723 199.416 L571.723 214.069 L567.44 214.069 L567.44 188.143 L571.723 188.143 L571.723 192.171 Q573.181 189.786 575.218 188.652 Q577.255 187.518 580.056 187.518 Q582.88 187.518 584.848 188.953 Q586.838 190.388 587.788 193.12 Z\" fill=\"#000000\" fill-rule=\"evenodd\" fill-opacity=\"1\" /><path clip-path=\"url(#clip820)\" d=\"M625.565 201.036 Q620.403 201.036 618.412 202.217 Q616.422 203.397 616.422 206.245 Q616.422 208.513 617.903 209.856 Q619.408 211.175 621.977 211.175 Q625.519 211.175 627.648 208.675 Q629.801 206.152 629.801 201.985 L629.801 201.036 L625.565 201.036 M634.06 199.277 L634.06 214.069 L629.801 214.069 L629.801 210.133 Q628.343 212.495 626.167 213.629 Q623.991 214.74 620.843 214.74 Q616.861 214.74 614.5 212.518 Q612.162 210.272 612.162 206.522 Q612.162 202.147 615.079 199.925 Q618.019 197.703 623.829 197.703 L629.801 197.703 L629.801 197.286 Q629.801 194.347 627.857 192.749 Q625.935 191.129 622.44 191.129 Q620.218 191.129 618.111 191.661 Q616.005 192.194 614.061 193.259 L614.061 189.323 Q616.399 188.421 618.598 187.981 Q620.797 187.518 622.88 187.518 Q628.505 187.518 631.283 190.434 Q634.06 193.351 634.06 199.277 Z\" fill=\"#000000\" fill-rule=\"evenodd\" fill-opacity=\"1\" /><path clip-path=\"url(#clip820)\" d=\"M647.046 180.782 L647.046 188.143 L655.82 188.143 L655.82 191.453 L647.046 191.453 L647.046 205.527 Q647.046 208.698 647.903 209.601 Q648.783 210.504 651.445 210.504 L655.82 210.504 L655.82 214.069 L651.445 214.069 Q646.514 214.069 644.639 212.24 Q642.764 210.388 642.764 205.527 L642.764 191.453 L639.639 191.453 L639.639 188.143 L642.764 188.143 L642.764 180.782 L647.046 180.782 Z\" fill=\"#000000\" fill-rule=\"evenodd\" fill-opacity=\"1\" /><path clip-path=\"url(#clip820)\" d=\"M661.421 188.143 L665.681 188.143 L665.681 214.069 L661.421 214.069 L661.421 188.143 M661.421 178.05 L665.681 178.05 L665.681 183.444 L661.421 183.444 L661.421 178.05 Z\" fill=\"#000000\" fill-rule=\"evenodd\" fill-opacity=\"1\" /><path clip-path=\"url(#clip820)\" d=\"M684.639 191.129 Q681.213 191.129 679.222 193.814 Q677.232 196.476 677.232 201.129 Q677.232 205.782 679.199 208.467 Q681.19 211.129 684.639 211.129 Q688.042 211.129 690.032 208.444 Q692.023 205.758 692.023 201.129 Q692.023 196.522 690.032 193.837 Q688.042 191.129 684.639 191.129 M684.639 187.518 Q690.194 187.518 693.366 191.129 Q696.537 194.74 696.537 201.129 Q696.537 207.495 693.366 211.129 Q690.194 214.74 684.639 214.74 Q679.06 214.74 675.889 211.129 Q672.741 207.495 672.741 201.129 Q672.741 194.74 675.889 191.129 Q679.06 187.518 684.639 187.518 Z\" fill=\"#000000\" fill-rule=\"evenodd\" fill-opacity=\"1\" /><path clip-path=\"url(#clip820)\" d=\"M725.148 198.421 L725.148 214.069 L720.889 214.069 L720.889 198.559 Q720.889 194.879 719.454 193.05 Q718.018 191.222 715.148 191.222 Q711.699 191.222 709.708 193.421 Q707.717 195.62 707.717 199.416 L707.717 214.069 L703.435 214.069 L703.435 188.143 L707.717 188.143 L707.717 192.171 Q709.245 189.833 711.305 188.675 Q713.389 187.518 716.097 187.518 Q720.565 187.518 722.856 190.296 Q725.148 193.05 725.148 198.421 Z\" fill=\"#000000\" fill-rule=\"evenodd\" fill-opacity=\"1\" /><polyline clip-path=\"url(#clip820)\" style=\"stroke:#3da44d; stroke-linecap:round; stroke-linejoin:round; stroke-width:8; stroke-opacity:1; fill:none\" points=\"\n  314.197,248.629 456.422,248.629 \n  \"/>\n<path clip-path=\"url(#clip820)\" d=\"M487.533 232.622 L487.533 239.983 L496.307 239.983 L496.307 243.293 L487.533 243.293 L487.533 257.367 Q487.533 260.538 488.39 261.441 Q489.27 262.344 491.932 262.344 L496.307 262.344 L496.307 265.909 L491.932 265.909 Q487.001 265.909 485.126 264.08 Q483.251 262.228 483.251 257.367 L483.251 243.293 L480.126 243.293 L480.126 239.983 L483.251 239.983 L483.251 232.622 L487.533 232.622 Z\" fill=\"#000000\" fill-rule=\"evenodd\" fill-opacity=\"1\" /><path clip-path=\"url(#clip820)\" d=\"M516.931 243.964 Q516.214 243.548 515.357 243.362 Q514.524 243.154 513.506 243.154 Q509.894 243.154 507.95 245.515 Q506.029 247.853 506.029 252.251 L506.029 265.909 L501.746 265.909 L501.746 239.983 L506.029 239.983 L506.029 244.011 Q507.371 241.649 509.524 240.515 Q511.677 239.358 514.756 239.358 Q515.195 239.358 515.728 239.427 Q516.26 239.474 516.908 239.589 L516.931 243.964 Z\" fill=\"#000000\" fill-rule=\"evenodd\" fill-opacity=\"1\" /><path clip-path=\"url(#clip820)\" d=\"M533.181 252.876 Q528.019 252.876 526.029 254.057 Q524.038 255.237 524.038 258.085 Q524.038 260.353 525.519 261.696 Q527.024 263.015 529.593 263.015 Q533.135 263.015 535.265 260.515 Q537.417 257.992 537.417 253.825 L537.417 252.876 L533.181 252.876 M541.677 251.117 L541.677 265.909 L537.417 265.909 L537.417 261.973 Q535.959 264.335 533.783 265.469 Q531.607 266.58 528.459 266.58 Q524.478 266.58 522.117 264.358 Q519.779 262.112 519.779 258.362 Q519.779 253.987 522.695 251.765 Q525.635 249.543 531.445 249.543 L537.417 249.543 L537.417 249.126 Q537.417 246.187 535.473 244.589 Q533.552 242.969 530.056 242.969 Q527.834 242.969 525.728 243.501 Q523.621 244.034 521.677 245.099 L521.677 241.163 Q524.015 240.261 526.214 239.821 Q528.413 239.358 530.496 239.358 Q536.121 239.358 538.899 242.274 Q541.677 245.191 541.677 251.117 Z\" fill=\"#000000\" fill-rule=\"evenodd\" fill-opacity=\"1\" /><path clip-path=\"url(#clip820)\" d=\"M550.45 239.983 L554.709 239.983 L554.709 265.909 L550.45 265.909 L550.45 239.983 M550.45 229.89 L554.709 229.89 L554.709 235.284 L550.45 235.284 L550.45 229.89 Z\" fill=\"#000000\" fill-rule=\"evenodd\" fill-opacity=\"1\" /><path clip-path=\"url(#clip820)\" d=\"M585.172 250.261 L585.172 265.909 L580.913 265.909 L580.913 250.399 Q580.913 246.719 579.477 244.89 Q578.042 243.062 575.172 243.062 Q571.723 243.062 569.732 245.261 Q567.741 247.46 567.741 251.256 L567.741 265.909 L563.459 265.909 L563.459 239.983 L567.741 239.983 L567.741 244.011 Q569.269 241.673 571.329 240.515 Q573.413 239.358 576.121 239.358 Q580.589 239.358 582.88 242.136 Q585.172 244.89 585.172 250.261 Z\" fill=\"#000000\" fill-rule=\"evenodd\" fill-opacity=\"1\" /><path clip-path=\"url(#clip820)\" d=\"M601.237 231.349 L605.172 231.349 L593.135 270.307 L589.2 270.307 L601.237 231.349 Z\" fill=\"#000000\" fill-rule=\"evenodd\" fill-opacity=\"1\" /><path clip-path=\"url(#clip820)\" d=\"M613.852 232.622 L613.852 239.983 L622.625 239.983 L622.625 243.293 L613.852 243.293 L613.852 257.367 Q613.852 260.538 614.709 261.441 Q615.588 262.344 618.25 262.344 L622.625 262.344 L622.625 265.909 L618.25 265.909 Q613.32 265.909 611.445 264.08 Q609.57 262.228 609.57 257.367 L609.57 243.293 L606.445 243.293 L606.445 239.983 L609.57 239.983 L609.57 232.622 L613.852 232.622 Z\" fill=\"#000000\" fill-rule=\"evenodd\" fill-opacity=\"1\" /><path clip-path=\"url(#clip820)\" d=\"M650.403 251.881 L650.403 253.964 L630.82 253.964 Q631.097 258.362 633.459 260.677 Q635.843 262.969 640.079 262.969 Q642.533 262.969 644.824 262.367 Q647.139 261.765 649.408 260.561 L649.408 264.589 Q647.116 265.561 644.709 266.071 Q642.301 266.58 639.824 266.58 Q633.621 266.58 629.986 262.969 Q626.375 259.358 626.375 253.2 Q626.375 246.835 629.801 243.108 Q633.25 239.358 639.084 239.358 Q644.315 239.358 647.347 242.737 Q650.403 246.094 650.403 251.881 M646.144 250.631 Q646.097 247.136 644.176 245.052 Q642.278 242.969 639.13 242.969 Q635.565 242.969 633.412 244.983 Q631.283 246.997 630.959 250.654 L646.144 250.631 Z\" fill=\"#000000\" fill-rule=\"evenodd\" fill-opacity=\"1\" /><path clip-path=\"url(#clip820)\" d=\"M673.921 240.747 L673.921 244.774 Q672.116 243.849 670.171 243.386 Q668.227 242.923 666.144 242.923 Q662.972 242.923 661.375 243.895 Q659.801 244.867 659.801 246.811 Q659.801 248.293 660.935 249.149 Q662.07 249.983 665.495 250.747 L666.954 251.071 Q671.491 252.043 673.389 253.825 Q675.31 255.585 675.31 258.756 Q675.31 262.367 672.44 264.473 Q669.593 266.58 664.593 266.58 Q662.509 266.58 660.241 266.163 Q657.995 265.77 655.496 264.96 L655.496 260.561 Q657.857 261.788 660.148 262.413 Q662.44 263.015 664.685 263.015 Q667.695 263.015 669.315 261.997 Q670.935 260.955 670.935 259.08 Q670.935 257.344 669.755 256.418 Q668.597 255.492 664.639 254.636 L663.158 254.288 Q659.199 253.455 657.44 251.742 Q655.681 250.006 655.681 246.997 Q655.681 243.339 658.273 241.349 Q660.866 239.358 665.634 239.358 Q667.995 239.358 670.079 239.705 Q672.162 240.052 673.921 240.747 Z\" fill=\"#000000\" fill-rule=\"evenodd\" fill-opacity=\"1\" /><path clip-path=\"url(#clip820)\" d=\"M686.306 232.622 L686.306 239.983 L695.079 239.983 L695.079 243.293 L686.306 243.293 L686.306 257.367 Q686.306 260.538 687.162 261.441 Q688.042 262.344 690.704 262.344 L695.079 262.344 L695.079 265.909 L690.704 265.909 Q685.773 265.909 683.898 264.08 Q682.023 262.228 682.023 257.367 L682.023 243.293 L678.898 243.293 L678.898 239.983 L682.023 239.983 L682.023 232.622 L686.306 232.622 Z\" fill=\"#000000\" fill-rule=\"evenodd\" fill-opacity=\"1\" /><path clip-path=\"url(#clip820)\" d=\"M732.278 240.747 L732.278 244.774 Q730.472 243.849 728.528 243.386 Q726.583 242.923 724.5 242.923 Q721.328 242.923 719.731 243.895 Q718.157 244.867 718.157 246.811 Q718.157 248.293 719.291 249.149 Q720.426 249.983 723.852 250.747 L725.31 251.071 Q729.847 252.043 731.745 253.825 Q733.666 255.585 733.666 258.756 Q733.666 262.367 730.796 264.473 Q727.949 266.58 722.949 266.58 Q720.866 266.58 718.597 266.163 Q716.352 265.77 713.852 264.96 L713.852 260.561 Q716.213 261.788 718.504 262.413 Q720.796 263.015 723.041 263.015 Q726.051 263.015 727.671 261.997 Q729.291 260.955 729.291 259.08 Q729.291 257.344 728.111 256.418 Q726.953 255.492 722.995 254.636 L721.514 254.288 Q717.555 253.455 715.796 251.742 Q714.037 250.006 714.037 246.997 Q714.037 243.339 716.629 241.349 Q719.222 239.358 723.991 239.358 Q726.352 239.358 728.435 239.705 Q730.518 240.052 732.278 240.747 Z\" fill=\"#000000\" fill-rule=\"evenodd\" fill-opacity=\"1\" /><path clip-path=\"url(#clip820)\" d=\"M744.569 262.02 L744.569 275.77 L740.287 275.77 L740.287 239.983 L744.569 239.983 L744.569 243.918 Q745.912 241.603 747.949 240.492 Q750.009 239.358 752.856 239.358 Q757.578 239.358 760.518 243.108 Q763.481 246.858 763.481 252.969 Q763.481 259.08 760.518 262.83 Q757.578 266.58 752.856 266.58 Q750.009 266.58 747.949 265.469 Q745.912 264.335 744.569 262.02 M759.06 252.969 Q759.06 248.27 757.115 245.608 Q755.194 242.923 751.814 242.923 Q748.435 242.923 746.49 245.608 Q744.569 248.27 744.569 252.969 Q744.569 257.668 746.49 260.353 Q748.435 263.015 751.814 263.015 Q755.194 263.015 757.115 260.353 Q759.06 257.668 759.06 252.969 Z\" fill=\"#000000\" fill-rule=\"evenodd\" fill-opacity=\"1\" /><path clip-path=\"url(#clip820)\" d=\"M770.541 229.89 L774.8 229.89 L774.8 265.909 L770.541 265.909 L770.541 229.89 Z\" fill=\"#000000\" fill-rule=\"evenodd\" fill-opacity=\"1\" /><path clip-path=\"url(#clip820)\" d=\"M783.712 239.983 L787.972 239.983 L787.972 265.909 L783.712 265.909 L783.712 239.983 M783.712 229.89 L787.972 229.89 L787.972 235.284 L783.712 235.284 L783.712 229.89 Z\" fill=\"#000000\" fill-rule=\"evenodd\" fill-opacity=\"1\" /><path clip-path=\"url(#clip820)\" d=\"M801.097 232.622 L801.097 239.983 L809.87 239.983 L809.87 243.293 L801.097 243.293 L801.097 257.367 Q801.097 260.538 801.953 261.441 Q802.833 262.344 805.495 262.344 L809.87 262.344 L809.87 265.909 L805.495 265.909 Q800.564 265.909 798.689 264.08 Q796.814 262.228 796.814 257.367 L796.814 243.293 L793.689 243.293 L793.689 239.983 L796.814 239.983 L796.814 232.622 L801.097 232.622 Z\" fill=\"#000000\" fill-rule=\"evenodd\" fill-opacity=\"1\" /></svg>\n"
     },
     "execution_count": 48,
     "metadata": {},
     "output_type": "execute_result"
    }
   ],
   "source": [
    "plot(times_zp_2.total - times_zp_2.evaluate, label=\"data\", linewidth=2)\n",
    "plot!(map(f, _base .^ range_zp_2), label=\"estimation\", linewidth=2)\n",
    "plot!([10.0], seriestype=\"vline\", label=\"train/test split\", linewidth=2)\n",
    "xlabel!(\"log(#terms)\")\n",
    "ylabel!(\"time (s)\")"
   ]
  },
  {
   "cell_type": "code",
   "execution_count": 49,
   "metadata": {},
   "outputs": [
    {
     "data": {
      "text/html": [
       "<div><div style = \"float: left;\"><span>12×3 DataFrame</span></div><div style = \"clear: both;\"></div></div><div class = \"data-frame\" style = \"overflow-x: scroll;\"><table class = \"data-frame\" style = \"margin-bottom: 6px;\"><thead><tr class = \"header\"><th class = \"rowNumber\" style = \"font-weight: bold; text-align: right;\">Row</th><th style = \"text-align: left;\">nterms</th><th style = \"text-align: left;\">total</th><th style = \"text-align: left;\">estimation</th></tr><tr class = \"subheader headerLastRow\"><th class = \"rowNumber\" style = \"font-weight: bold; text-align: right;\"></th><th title = \"String\" style = \"text-align: left;\">String</th><th title = \"Float64\" style = \"text-align: left;\">Float64</th><th title = \"Float64\" style = \"text-align: left;\">Float64</th></tr></thead><tbody><tr><td class = \"rowNumber\" style = \"font-weight: bold; text-align: right;\">1</td><td style = \"text-align: left;\">1.5^3</td><td style = \"text-align: right;\">0.018</td><td style = \"text-align: right;\">0.0263879</td></tr><tr><td class = \"rowNumber\" style = \"font-weight: bold; text-align: right;\">2</td><td style = \"text-align: left;\">1.5^4</td><td style = \"text-align: right;\">0.0391</td><td style = \"text-align: right;\">0.030473</td></tr><tr><td class = \"rowNumber\" style = \"font-weight: bold; text-align: right;\">3</td><td style = \"text-align: left;\">1.5^5</td><td style = \"text-align: right;\">0.0289</td><td style = \"text-align: right;\">0.0496674</td></tr><tr><td class = \"rowNumber\" style = \"font-weight: bold; text-align: right;\">4</td><td style = \"text-align: left;\">1.5^6</td><td style = \"text-align: right;\">0.0703</td><td style = \"text-align: right;\">0.086937</td></tr><tr><td class = \"rowNumber\" style = \"font-weight: bold; text-align: right;\">5</td><td style = \"text-align: left;\">1.5^7</td><td style = \"text-align: right;\">0.0797</td><td style = \"text-align: right;\">0.145519</td></tr><tr><td class = \"rowNumber\" style = \"font-weight: bold; text-align: right;\">6</td><td style = \"text-align: left;\">1.5^8</td><td style = \"text-align: right;\">0.1827</td><td style = \"text-align: right;\">0.228996</td></tr><tr><td class = \"rowNumber\" style = \"font-weight: bold; text-align: right;\">7</td><td style = \"text-align: left;\">1.5^9</td><td style = \"text-align: right;\">0.3194</td><td style = \"text-align: right;\">0.341639</td></tr><tr><td class = \"rowNumber\" style = \"font-weight: bold; text-align: right;\">8</td><td style = \"text-align: left;\">1.5^10</td><td style = \"text-align: right;\">0.3911</td><td style = \"text-align: right;\">0.489423</td></tr><tr><td class = \"rowNumber\" style = \"font-weight: bold; text-align: right;\">9</td><td style = \"text-align: left;\">1.5^11</td><td style = \"text-align: right;\">0.6131</td><td style = \"text-align: right;\">0.682493</td></tr><tr><td class = \"rowNumber\" style = \"font-weight: bold; text-align: right;\">10</td><td style = \"text-align: left;\">1.5^12</td><td style = \"text-align: right;\">1.1125</td><td style = \"text-align: right;\">0.940574</td></tr><tr><td class = \"rowNumber\" style = \"font-weight: bold; text-align: right;\">11</td><td style = \"text-align: left;\">1.5^13</td><td style = \"text-align: right;\">1.8135</td><td style = \"text-align: right;\">1.30414</td></tr><tr><td class = \"rowNumber\" style = \"font-weight: bold; text-align: right;\">12</td><td style = \"text-align: left;\">1.5^14</td><td style = \"text-align: right;\">2.5693</td><td style = \"text-align: right;\">1.85637</td></tr></tbody></table></div>"
      ],
      "text/latex": [
       "\\begin{tabular}{r|ccc}\n",
       "\t& nterms & total & estimation\\\\\n",
       "\t\\hline\n",
       "\t& String & Float64 & Float64\\\\\n",
       "\t\\hline\n",
       "\t1 & 1.5\\^3 & 0.018 & 0.0263879 \\\\\n",
       "\t2 & 1.5\\^4 & 0.0391 & 0.030473 \\\\\n",
       "\t3 & 1.5\\^5 & 0.0289 & 0.0496674 \\\\\n",
       "\t4 & 1.5\\^6 & 0.0703 & 0.086937 \\\\\n",
       "\t5 & 1.5\\^7 & 0.0797 & 0.145519 \\\\\n",
       "\t6 & 1.5\\^8 & 0.1827 & 0.228996 \\\\\n",
       "\t7 & 1.5\\^9 & 0.3194 & 0.341639 \\\\\n",
       "\t8 & 1.5\\^10 & 0.3911 & 0.489423 \\\\\n",
       "\t9 & 1.5\\^11 & 0.6131 & 0.682493 \\\\\n",
       "\t10 & 1.5\\^12 & 1.1125 & 0.940574 \\\\\n",
       "\t11 & 1.5\\^13 & 1.8135 & 1.30414 \\\\\n",
       "\t12 & 1.5\\^14 & 2.5693 & 1.85637 \\\\\n",
       "\\end{tabular}\n"
      ],
      "text/plain": [
       "\u001b[1m12×3 DataFrame\u001b[0m\n",
       "\u001b[1m Row \u001b[0m│\u001b[1m nterms \u001b[0m\u001b[1m total   \u001b[0m\u001b[1m estimation \u001b[0m\n",
       "     │\u001b[90m String \u001b[0m\u001b[90m Float64 \u001b[0m\u001b[90m Float64    \u001b[0m\n",
       "─────┼─────────────────────────────\n",
       "   1 │ 1.5^3    0.018    0.0263879\n",
       "   2 │ 1.5^4    0.0391   0.030473\n",
       "   3 │ 1.5^5    0.0289   0.0496674\n",
       "   4 │ 1.5^6    0.0703   0.086937\n",
       "   5 │ 1.5^7    0.0797   0.145519\n",
       "   6 │ 1.5^8    0.1827   0.228996\n",
       "   7 │ 1.5^9    0.3194   0.341639\n",
       "   8 │ 1.5^10   0.3911   0.489423\n",
       "   9 │ 1.5^11   0.6131   0.682493\n",
       "  10 │ 1.5^12   1.1125   0.940574\n",
       "  11 │ 1.5^13   1.8135   1.30414\n",
       "  12 │ 1.5^14   2.5693   1.85637"
      ]
     },
     "execution_count": 49,
     "metadata": {},
     "output_type": "execute_result"
    }
   ],
   "source": [
    "df_zp2_2 = DataFrame(\n",
    "    nterms=[\"$_base^$i\" for i in range_zp_2], \n",
    "    total=times_zp_2.total - times_zp_2.evaluate,\n",
    "    estimation=[f(n) for n in _base .^ range_zp_2],\n",
    ")\n",
    "df_zp2_2"
   ]
  },
  {
   "cell_type": "code",
   "execution_count": null,
   "metadata": {},
   "outputs": [],
   "source": []
  }
 ],
 "metadata": {
  "kernelspec": {
   "display_name": "Julia 1.8.2",
   "language": "julia",
   "name": "julia-1.8"
  },
  "language_info": {
   "file_extension": ".jl",
   "mimetype": "application/julia",
   "name": "julia",
   "version": "1.8.2"
  },
  "orig_nbformat": 4
 },
 "nbformat": 4,
 "nbformat_minor": 2
}
